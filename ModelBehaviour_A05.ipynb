{
 "cells": [
  {
   "cell_type": "code",
   "execution_count": 165,
   "metadata": {},
   "outputs": [],
   "source": [
    "#Assignment5\n",
    "#Namrata R PES1201700921\n",
    "#C Diya PES201700246\n",
    "#Chiranth J PES1201701438\n",
    "\n",
    "#modules to be imported\n",
    "#! pip install librosa\n",
    "from keras import layers, models, optimizers \n",
    "import pandas as pd \n",
    "import keras\n",
    "from keras.models import Sequential\n",
    "from keras.layers import Dense, Dropout, Flatten\n",
    "from keras.layers import Conv2D, MaxPooling2D\n",
    "from keras.utils import to_categorical\n",
    "from keras.preprocessing import image\n",
    "import numpy as np\n",
    "from keras.utils import to_categorical\n",
    "from tqdm import tqdm\n",
    "from PIL import Image\n",
    "from keras_preprocessing.image import ImageDataGenerator\n",
    "from sklearn.decomposition import PCA\n",
    "from sklearn.preprocessing import normalize\n",
    "import scipy.io as sio\n",
    "import matplotlib.pyplot as plt\n",
    "from sklearn.model_selection import train_test_split\n",
    "from keras.utils import to_categorical\n",
    "from tqdm import tqdm\n",
    "from matplotlib.pyplot import imread\n",
    "from keras.utils import to_categorical, np_utils\n",
    "from sklearn.preprocessing import StandardScaler\n",
    "from sklearn.metrics import classification_report, confusion_matrix\n",
    "from sklearn.neural_network import MLPClassifier\n",
    "from sklearn.neighbors import KNeighborsClassifier\n",
    "from sklearn.metrics import accuracy_score\n",
    "from sklearn.preprocessing import LabelEncoder\n",
    "import librosa\n",
    "%matplotlib inline\n",
    "import matplotlib.pyplot as plt\n",
    "import librosa.display"
   ]
  },
  {
   "cell_type": "code",
   "execution_count": 114,
   "metadata": {},
   "outputs": [],
   "source": [
    "path1='styles.csv'\n",
    "audio_path = r'C:\\Users\\diyas\\Downloads\\audio-data\\The Big Bang Theory Season 6 Ep 21 - Best Scenes.wav'\n"
   ]
  },
  {
   "cell_type": "code",
   "execution_count": 115,
   "metadata": {},
   "outputs": [
    {
     "name": "stderr",
     "output_type": "stream",
     "text": [
      "b'Skipping line 6044: expected 10 fields, saw 11\\nSkipping line 6569: expected 10 fields, saw 11\\nSkipping line 7399: expected 10 fields, saw 11\\nSkipping line 7939: expected 10 fields, saw 11\\nSkipping line 9026: expected 10 fields, saw 11\\nSkipping line 10264: expected 10 fields, saw 11\\nSkipping line 10427: expected 10 fields, saw 11\\nSkipping line 10905: expected 10 fields, saw 11\\nSkipping line 11373: expected 10 fields, saw 11\\nSkipping line 11945: expected 10 fields, saw 11\\nSkipping line 14112: expected 10 fields, saw 11\\nSkipping line 14532: expected 10 fields, saw 11\\nSkipping line 15076: expected 10 fields, saw 12\\nSkipping line 29906: expected 10 fields, saw 11\\nSkipping line 31625: expected 10 fields, saw 11\\nSkipping line 33020: expected 10 fields, saw 11\\nSkipping line 35748: expected 10 fields, saw 11\\nSkipping line 35962: expected 10 fields, saw 11\\nSkipping line 37770: expected 10 fields, saw 11\\nSkipping line 38105: expected 10 fields, saw 11\\nSkipping line 38275: expected 10 fields, saw 11\\nSkipping line 38404: expected 10 fields, saw 12\\n'\n"
     ]
    }
   ],
   "source": [
    "#reading of csv using pandas\n",
    "df=pd.read_csv(path1,error_bad_lines=False)\n",
    "#adding an images column to store name of subsequent jpg\n",
    "df['images'] = df.apply(lambda row: str(row['id']) + \".jpg\", axis=1)\n",
    "df = df.sample(frac=1).reset_index(drop=True)\n",
    "#df.head(10)"
   ]
  },
  {
   "cell_type": "code",
   "execution_count": 116,
   "metadata": {},
   "outputs": [
    {
     "name": "stderr",
     "output_type": "stream",
     "text": [
      "100%|███████████████████████████████████████████████████████████████████████████| 44424/44424 [05:09<00:00, 143.63it/s]\n"
     ]
    }
   ],
   "source": [
    "#Question 1\n",
    "#Classify the given set of images using a vanilla CNN( Don’t apply PCA for this!). \n",
    "\n",
    "#creating an array of the dimensions of the images \n",
    "#try and except has been used as suggested on the FAQ pages\n",
    "train_image = []\n",
    "y=[]\n",
    "for i in tqdm(range(df.shape[0])):\n",
    "    #print('images/'+str(df['images'][i]))\n",
    "    try:\n",
    "        img = image.load_img('images/'+str(df['images'][i]), target_size=(80,60,3))\n",
    "        img = image.img_to_array(img)\n",
    "        img = img/255\n",
    "        train_image.append(img)\n",
    "        y.append(df['masterCategory'][i])\n",
    "    except:\n",
    "        continue\n",
    "X = np.array(train_image)"
   ]
  },
  {
   "cell_type": "code",
   "execution_count": 117,
   "metadata": {},
   "outputs": [],
   "source": [
    "#useing one hot encoding to encode the list of string obtained\n",
    "code = np.array(y)\n",
    "label_encoder = LabelEncoder()\n",
    "vec = label_encoder.fit_transform(code)"
   ]
  },
  {
   "cell_type": "code",
   "execution_count": 118,
   "metadata": {},
   "outputs": [],
   "source": [
    "y1=keras.utils.to_categorical(vec,num_classes=7)\n",
    "#y1.shape"
   ]
  },
  {
   "cell_type": "code",
   "execution_count": 119,
   "metadata": {},
   "outputs": [],
   "source": [
    "#splitting train and test data\n",
    "X_train, X_test, y_train, y_test = train_test_split(X, y1, random_state=42, test_size=0.2)"
   ]
  },
  {
   "cell_type": "code",
   "execution_count": 120,
   "metadata": {},
   "outputs": [
    {
     "name": "stdout",
     "output_type": "stream",
     "text": [
      "Train on 35535 samples, validate on 8884 samples\n",
      "Epoch 1/10\n",
      "35535/35535 [==============================] - ETA: 7:34 - loss: 2.0017 - acc: 0.003 - ETA: 4:04 - loss: 1.8299 - acc: 0.234 - ETA: 3:28 - loss: 1.7879 - acc: 0.313 - ETA: 2:42 - loss: 1.7553 - acc: 0.318 - ETA: 2:14 - loss: 1.6870 - acc: 0.359 - ETA: 1:55 - loss: 1.6016 - acc: 0.382 - ETA: 1:42 - loss: 1.5502 - acc: 0.397 - ETA: 1:32 - loss: 1.5136 - acc: 0.384 - ETA: 1:24 - loss: 1.4730 - acc: 0.396 - ETA: 1:18 - loss: 1.4266 - acc: 0.434 - ETA: 1:12 - loss: 1.4268 - acc: 0.441 - ETA: 1:08 - loss: 1.4252 - acc: 0.421 - ETA: 1:04 - loss: 1.4062 - acc: 0.442 - ETA: 1:01 - loss: 1.3791 - acc: 0.459 - ETA: 58s - loss: 1.3468 - acc: 0.476 - ETA: 55s - loss: 1.3178 - acc: 0.49 - ETA: 53s - loss: 1.2947 - acc: 0.49 - ETA: 51s - loss: 1.2830 - acc: 0.50 - ETA: 49s - loss: 1.2617 - acc: 0.52 - ETA: 48s - loss: 1.2413 - acc: 0.53 - ETA: 46s - loss: 1.2198 - acc: 0.54 - ETA: 45s - loss: 1.2101 - acc: 0.54 - ETA: 44s - loss: 1.1971 - acc: 0.55 - ETA: 42s - loss: 1.1799 - acc: 0.55 - ETA: 41s - loss: 1.1610 - acc: 0.56 - ETA: 40s - loss: 1.1450 - acc: 0.56 - ETA: 39s - loss: 1.1388 - acc: 0.57 - ETA: 38s - loss: 1.1220 - acc: 0.57 - ETA: 37s - loss: 1.1071 - acc: 0.58 - ETA: 36s - loss: 1.0932 - acc: 0.58 - ETA: 35s - loss: 1.0822 - acc: 0.59 - ETA: 35s - loss: 1.0702 - acc: 0.59 - ETA: 34s - loss: 1.0570 - acc: 0.60 - ETA: 33s - loss: 1.0439 - acc: 0.60 - ETA: 33s - loss: 1.0319 - acc: 0.61 - ETA: 32s - loss: 1.0233 - acc: 0.61 - ETA: 31s - loss: 1.0136 - acc: 0.62 - ETA: 31s - loss: 1.0046 - acc: 0.62 - ETA: 30s - loss: 0.9937 - acc: 0.62 - ETA: 29s - loss: 0.9845 - acc: 0.63 - ETA: 29s - loss: 0.9788 - acc: 0.63 - ETA: 28s - loss: 0.9684 - acc: 0.63 - ETA: 28s - loss: 0.9586 - acc: 0.64 - ETA: 27s - loss: 0.9496 - acc: 0.64 - ETA: 27s - loss: 0.9432 - acc: 0.64 - ETA: 26s - loss: 0.9369 - acc: 0.64 - ETA: 26s - loss: 0.9280 - acc: 0.65 - ETA: 26s - loss: 0.9183 - acc: 0.65 - ETA: 25s - loss: 0.9128 - acc: 0.65 - ETA: 25s - loss: 0.9103 - acc: 0.65 - ETA: 24s - loss: 0.9052 - acc: 0.66 - ETA: 24s - loss: 0.8961 - acc: 0.66 - ETA: 23s - loss: 0.8887 - acc: 0.66 - ETA: 23s - loss: 0.8800 - acc: 0.67 - ETA: 23s - loss: 0.8712 - acc: 0.67 - ETA: 22s - loss: 0.8644 - acc: 0.67 - ETA: 22s - loss: 0.8585 - acc: 0.67 - ETA: 22s - loss: 0.8546 - acc: 0.68 - ETA: 21s - loss: 0.8497 - acc: 0.68 - ETA: 21s - loss: 0.8442 - acc: 0.68 - ETA: 21s - loss: 0.8382 - acc: 0.68 - ETA: 20s - loss: 0.8365 - acc: 0.68 - ETA: 20s - loss: 0.8351 - acc: 0.68 - ETA: 20s - loss: 0.8319 - acc: 0.68 - ETA: 19s - loss: 0.8275 - acc: 0.69 - ETA: 19s - loss: 0.8217 - acc: 0.69 - ETA: 19s - loss: 0.8153 - acc: 0.69 - ETA: 18s - loss: 0.8104 - acc: 0.69 - ETA: 18s - loss: 0.8048 - acc: 0.69 - ETA: 18s - loss: 0.7999 - acc: 0.70 - ETA: 17s - loss: 0.7964 - acc: 0.70 - ETA: 17s - loss: 0.7910 - acc: 0.70 - ETA: 17s - loss: 0.7857 - acc: 0.70 - ETA: 16s - loss: 0.7808 - acc: 0.70 - ETA: 16s - loss: 0.7755 - acc: 0.71 - ETA: 16s - loss: 0.7695 - acc: 0.71 - ETA: 15s - loss: 0.7648 - acc: 0.71 - ETA: 15s - loss: 0.7611 - acc: 0.71 - ETA: 15s - loss: 0.7579 - acc: 0.71 - ETA: 15s - loss: 0.7537 - acc: 0.71 - ETA: 14s - loss: 0.7496 - acc: 0.72 - ETA: 14s - loss: 0.7450 - acc: 0.72 - ETA: 14s - loss: 0.7410 - acc: 0.72 - ETA: 13s - loss: 0.7361 - acc: 0.72 - ETA: 13s - loss: 0.7333 - acc: 0.72 - ETA: 13s - loss: 0.7309 - acc: 0.72 - ETA: 13s - loss: 0.7264 - acc: 0.72 - ETA: 12s - loss: 0.7221 - acc: 0.73 - ETA: 12s - loss: 0.7183 - acc: 0.73 - ETA: 12s - loss: 0.7149 - acc: 0.73 - ETA: 11s - loss: 0.7122 - acc: 0.73 - ETA: 11s - loss: 0.7080 - acc: 0.73 - ETA: 11s - loss: 0.7038 - acc: 0.73 - ETA: 11s - loss: 0.7001 - acc: 0.74 - ETA: 10s - loss: 0.6967 - acc: 0.74 - ETA: 10s - loss: 0.6930 - acc: 0.74 - ETA: 10s - loss: 0.6905 - acc: 0.74 - ETA: 10s - loss: 0.6873 - acc: 0.74 - ETA: 9s - loss: 0.6836 - acc: 0.7463 - ETA: 9s - loss: 0.6798 - acc: 0.747 - ETA: 9s - loss: 0.6768 - acc: 0.748 - ETA: 9s - loss: 0.6724 - acc: 0.750 - ETA: 8s - loss: 0.6686 - acc: 0.752 - ETA: 8s - loss: 0.6651 - acc: 0.753 - ETA: 8s - loss: 0.6622 - acc: 0.754 - ETA: 8s - loss: 0.6590 - acc: 0.755 - ETA: 7s - loss: 0.6566 - acc: 0.756 - ETA: 7s - loss: 0.6549 - acc: 0.757 - ETA: 7s - loss: 0.6524 - acc: 0.758 - ETA: 7s - loss: 0.6491 - acc: 0.759 - ETA: 6s - loss: 0.6467 - acc: 0.761 - ETA: 6s - loss: 0.6435 - acc: 0.762 - ETA: 6s - loss: 0.6418 - acc: 0.762 - ETA: 6s - loss: 0.6401 - acc: 0.763 - ETA: 5s - loss: 0.6378 - acc: 0.764 - ETA: 5s - loss: 0.6348 - acc: 0.765 - ETA: 5s - loss: 0.6326 - acc: 0.766 - ETA: 5s - loss: 0.6300 - acc: 0.767 - ETA: 4s - loss: 0.6270 - acc: 0.768 - ETA: 4s - loss: 0.6240 - acc: 0.769 - ETA: 4s - loss: 0.6219 - acc: 0.770 - ETA: 4s - loss: 0.6192 - acc: 0.771 - ETA: 3s - loss: 0.6162 - acc: 0.772 - ETA: 3s - loss: 0.6137 - acc: 0.773 - ETA: 3s - loss: 0.6111 - acc: 0.774 - ETA: 3s - loss: 0.6084 - acc: 0.775 - ETA: 2s - loss: 0.6055 - acc: 0.777 - ETA: 2s - loss: 0.6022 - acc: 0.778 - ETA: 2s - loss: 0.5996 - acc: 0.779 - ETA: 2s - loss: 0.5971 - acc: 0.780 - ETA: 1s - loss: 0.5947 - acc: 0.781 - ETA: 1s - loss: 0.5922 - acc: 0.782 - ETA: 1s - loss: 0.5900 - acc: 0.783 - ETA: 1s - loss: 0.5878 - acc: 0.783 - ETA: 0s - loss: 0.5854 - acc: 0.784 - ETA: 0s - loss: 0.5827 - acc: 0.785 - ETA: 0s - loss: 0.5796 - acc: 0.787 - ETA: 0s - loss: 0.5771 - acc: 0.787 - 37s 1ms/step - loss: 0.5751 - acc: 0.7887 - val_loss: 0.3380 - val_acc: 0.8828\n",
      "Epoch 2/10\n",
      "35535/35535 [==============================] - ETA: 27s - loss: 0.3858 - acc: 0.88 - ETA: 26s - loss: 0.3681 - acc: 0.87 - ETA: 26s - loss: 0.3342 - acc: 0.88 - ETA: 26s - loss: 0.3171 - acc: 0.89 - ETA: 26s - loss: 0.3149 - acc: 0.89 - ETA: 26s - loss: 0.3256 - acc: 0.88 - ETA: 27s - loss: 0.3421 - acc: 0.88 - ETA: 27s - loss: 0.3439 - acc: 0.87 - ETA: 26s - loss: 0.3396 - acc: 0.88 - ETA: 26s - loss: 0.3233 - acc: 0.88 - ETA: 26s - loss: 0.3143 - acc: 0.89 - ETA: 26s - loss: 0.3152 - acc: 0.89 - ETA: 26s - loss: 0.3110 - acc: 0.89 - ETA: 25s - loss: 0.3014 - acc: 0.89 - ETA: 25s - loss: 0.2952 - acc: 0.90 - ETA: 25s - loss: 0.2857 - acc: 0.90 - ETA: 25s - loss: 0.2810 - acc: 0.90 - ETA: 25s - loss: 0.2778 - acc: 0.90 - ETA: 25s - loss: 0.2754 - acc: 0.90 - ETA: 25s - loss: 0.2778 - acc: 0.90 - ETA: 24s - loss: 0.2774 - acc: 0.90 - ETA: 24s - loss: 0.2774 - acc: 0.90 - ETA: 24s - loss: 0.2722 - acc: 0.90 - ETA: 24s - loss: 0.2672 - acc: 0.90 - ETA: 23s - loss: 0.2667 - acc: 0.90 - ETA: 23s - loss: 0.2670 - acc: 0.90 - ETA: 23s - loss: 0.2684 - acc: 0.90 - ETA: 23s - loss: 0.2712 - acc: 0.90 - ETA: 23s - loss: 0.2715 - acc: 0.90 - ETA: 23s - loss: 0.2677 - acc: 0.90 - ETA: 22s - loss: 0.2653 - acc: 0.90 - ETA: 22s - loss: 0.2629 - acc: 0.91 - ETA: 22s - loss: 0.2627 - acc: 0.91 - ETA: 22s - loss: 0.2635 - acc: 0.91 - ETA: 22s - loss: 0.2615 - acc: 0.91 - ETA: 22s - loss: 0.2614 - acc: 0.91 - ETA: 21s - loss: 0.2632 - acc: 0.91 - ETA: 21s - loss: 0.2623 - acc: 0.91 - ETA: 21s - loss: 0.2608 - acc: 0.91 - ETA: 21s - loss: 0.2595 - acc: 0.91 - ETA: 20s - loss: 0.2581 - acc: 0.91 - ETA: 20s - loss: 0.2565 - acc: 0.91 - ETA: 20s - loss: 0.2563 - acc: 0.91 - ETA: 20s - loss: 0.2554 - acc: 0.91 - ETA: 19s - loss: 0.2566 - acc: 0.91 - ETA: 19s - loss: 0.2548 - acc: 0.91 - ETA: 19s - loss: 0.2561 - acc: 0.91 - ETA: 19s - loss: 0.2545 - acc: 0.91 - ETA: 19s - loss: 0.2551 - acc: 0.91 - ETA: 18s - loss: 0.2544 - acc: 0.91 - ETA: 18s - loss: 0.2541 - acc: 0.91 - ETA: 18s - loss: 0.2547 - acc: 0.91 - ETA: 18s - loss: 0.2554 - acc: 0.91 - ETA: 18s - loss: 0.2557 - acc: 0.91 - ETA: 17s - loss: 0.2565 - acc: 0.91 - ETA: 17s - loss: 0.2563 - acc: 0.91 - ETA: 17s - loss: 0.2558 - acc: 0.91 - ETA: 17s - loss: 0.2549 - acc: 0.91 - ETA: 17s - loss: 0.2552 - acc: 0.91 - ETA: 16s - loss: 0.2541 - acc: 0.91 - ETA: 16s - loss: 0.2529 - acc: 0.91 - ETA: 16s - loss: 0.2509 - acc: 0.91 - ETA: 16s - loss: 0.2494 - acc: 0.91 - ETA: 16s - loss: 0.2504 - acc: 0.91 - ETA: 15s - loss: 0.2512 - acc: 0.91 - ETA: 15s - loss: 0.2513 - acc: 0.91 - ETA: 15s - loss: 0.2499 - acc: 0.91 - ETA: 15s - loss: 0.2491 - acc: 0.91 - ETA: 15s - loss: 0.2477 - acc: 0.91 - ETA: 14s - loss: 0.2460 - acc: 0.91 - ETA: 14s - loss: 0.2451 - acc: 0.92 - ETA: 14s - loss: 0.2450 - acc: 0.92 - ETA: 14s - loss: 0.2454 - acc: 0.92 - ETA: 14s - loss: 0.2451 - acc: 0.92 - ETA: 13s - loss: 0.2449 - acc: 0.92 - ETA: 13s - loss: 0.2441 - acc: 0.92 - ETA: 13s - loss: 0.2445 - acc: 0.92 - ETA: 13s - loss: 0.2449 - acc: 0.92 - ETA: 12s - loss: 0.2449 - acc: 0.92 - ETA: 12s - loss: 0.2445 - acc: 0.92 - ETA: 12s - loss: 0.2440 - acc: 0.92 - ETA: 12s - loss: 0.2429 - acc: 0.92 - ETA: 12s - loss: 0.2426 - acc: 0.92 - ETA: 11s - loss: 0.2418 - acc: 0.92 - ETA: 11s - loss: 0.2408 - acc: 0.92 - ETA: 11s - loss: 0.2399 - acc: 0.92 - ETA: 11s - loss: 0.2396 - acc: 0.92 - ETA: 11s - loss: 0.2388 - acc: 0.92 - ETA: 10s - loss: 0.2388 - acc: 0.92 - ETA: 10s - loss: 0.2390 - acc: 0.92 - ETA: 10s - loss: 0.2375 - acc: 0.92 - ETA: 10s - loss: 0.2364 - acc: 0.92 - ETA: 9s - loss: 0.2354 - acc: 0.9236 - ETA: 9s - loss: 0.2345 - acc: 0.923 - ETA: 9s - loss: 0.2338 - acc: 0.923 - ETA: 9s - loss: 0.2336 - acc: 0.923 - ETA: 9s - loss: 0.2326 - acc: 0.924 - ETA: 8s - loss: 0.2333 - acc: 0.923 - ETA: 8s - loss: 0.2325 - acc: 0.924 - ETA: 8s - loss: 0.2326 - acc: 0.924 - ETA: 8s - loss: 0.2317 - acc: 0.924 - ETA: 7s - loss: 0.2320 - acc: 0.924 - ETA: 7s - loss: 0.2322 - acc: 0.924 - ETA: 7s - loss: 0.2322 - acc: 0.924 - ETA: 7s - loss: 0.2311 - acc: 0.925 - ETA: 7s - loss: 0.2302 - acc: 0.925 - ETA: 6s - loss: 0.2300 - acc: 0.925 - ETA: 6s - loss: 0.2295 - acc: 0.925 - ETA: 6s - loss: 0.2290 - acc: 0.925 - ETA: 6s - loss: 0.2284 - acc: 0.925 - ETA: 6s - loss: 0.2280 - acc: 0.926 - ETA: 5s - loss: 0.2274 - acc: 0.926 - ETA: 5s - loss: 0.2269 - acc: 0.926 - ETA: 5s - loss: 0.2261 - acc: 0.926 - ETA: 5s - loss: 0.2257 - acc: 0.926 - ETA: 4s - loss: 0.2253 - acc: 0.926 - ETA: 4s - loss: 0.2249 - acc: 0.926 - ETA: 4s - loss: 0.2245 - acc: 0.926 - ETA: 4s - loss: 0.2242 - acc: 0.927 - ETA: 4s - loss: 0.2253 - acc: 0.926 - ETA: 3s - loss: 0.2256 - acc: 0.926 - ETA: 3s - loss: 0.2257 - acc: 0.926 - ETA: 3s - loss: 0.2253 - acc: 0.926 - ETA: 3s - loss: 0.2249 - acc: 0.926 - ETA: 3s - loss: 0.2246 - acc: 0.926 - ETA: 2s - loss: 0.2246 - acc: 0.926 - ETA: 2s - loss: 0.2241 - acc: 0.927 - ETA: 2s - loss: 0.2241 - acc: 0.927 - ETA: 2s - loss: 0.2243 - acc: 0.926 - ETA: 1s - loss: 0.2242 - acc: 0.926 - ETA: 1s - loss: 0.2240 - acc: 0.927 - ETA: 1s - loss: 0.2241 - acc: 0.927 - ETA: 1s - loss: 0.2235 - acc: 0.927 - ETA: 1s - loss: 0.2230 - acc: 0.927 - ETA: 0s - loss: 0.2219 - acc: 0.927 - ETA: 0s - loss: 0.2213 - acc: 0.928 - ETA: 0s - loss: 0.2210 - acc: 0.928 - ETA: 0s - loss: 0.2207 - acc: 0.928 - 33s 928us/step - loss: 0.2206 - acc: 0.9283 - val_loss: 0.2242 - val_acc: 0.9226\n",
      "Epoch 3/10\n",
      "35535/35535 [==============================] - ETA: 31s - loss: 0.2300 - acc: 0.88 - ETA: 31s - loss: 0.2195 - acc: 0.91 - ETA: 29s - loss: 0.2016 - acc: 0.92 - ETA: 29s - loss: 0.2033 - acc: 0.92 - ETA: 28s - loss: 0.1912 - acc: 0.93 - ETA: 28s - loss: 0.1859 - acc: 0.93 - ETA: 27s - loss: 0.1765 - acc: 0.93 - ETA: 27s - loss: 0.1702 - acc: 0.94 - ETA: 27s - loss: 0.1659 - acc: 0.94 - ETA: 27s - loss: 0.1700 - acc: 0.94 - ETA: 26s - loss: 0.1687 - acc: 0.94 - ETA: 26s - loss: 0.1729 - acc: 0.94 - ETA: 26s - loss: 0.1730 - acc: 0.94 - ETA: 26s - loss: 0.1718 - acc: 0.94 - ETA: 26s - loss: 0.1720 - acc: 0.94 - ETA: 26s - loss: 0.1721 - acc: 0.94 - ETA: 25s - loss: 0.1712 - acc: 0.94 - ETA: 25s - loss: 0.1694 - acc: 0.94 - ETA: 25s - loss: 0.1675 - acc: 0.94 - ETA: 25s - loss: 0.1656 - acc: 0.94 - ETA: 25s - loss: 0.1671 - acc: 0.94 - ETA: 25s - loss: 0.1712 - acc: 0.94 - ETA: 24s - loss: 0.1691 - acc: 0.94 - ETA: 24s - loss: 0.1677 - acc: 0.94 - ETA: 24s - loss: 0.1689 - acc: 0.94 - ETA: 24s - loss: 0.1762 - acc: 0.94 - ETA: 23s - loss: 0.1786 - acc: 0.94 - ETA: 23s - loss: 0.1794 - acc: 0.94 - ETA: 23s - loss: 0.1808 - acc: 0.94 - ETA: 23s - loss: 0.1791 - acc: 0.94 - ETA: 23s - loss: 0.1766 - acc: 0.94 - ETA: 22s - loss: 0.1756 - acc: 0.94 - ETA: 22s - loss: 0.1743 - acc: 0.94 - ETA: 22s - loss: 0.1730 - acc: 0.94 - ETA: 22s - loss: 0.1713 - acc: 0.94 - ETA: 22s - loss: 0.1692 - acc: 0.94 - ETA: 21s - loss: 0.1679 - acc: 0.94 - ETA: 21s - loss: 0.1680 - acc: 0.94 - ETA: 21s - loss: 0.1664 - acc: 0.94 - ETA: 21s - loss: 0.1664 - acc: 0.94 - ETA: 21s - loss: 0.1662 - acc: 0.94 - ETA: 20s - loss: 0.1664 - acc: 0.94 - ETA: 20s - loss: 0.1653 - acc: 0.94 - ETA: 20s - loss: 0.1662 - acc: 0.94 - ETA: 20s - loss: 0.1657 - acc: 0.94 - ETA: 20s - loss: 0.1644 - acc: 0.94 - ETA: 19s - loss: 0.1641 - acc: 0.94 - ETA: 19s - loss: 0.1636 - acc: 0.94 - ETA: 19s - loss: 0.1648 - acc: 0.94 - ETA: 19s - loss: 0.1652 - acc: 0.94 - ETA: 18s - loss: 0.1650 - acc: 0.94 - ETA: 18s - loss: 0.1649 - acc: 0.94 - ETA: 18s - loss: 0.1649 - acc: 0.94 - ETA: 18s - loss: 0.1675 - acc: 0.94 - ETA: 18s - loss: 0.1679 - acc: 0.94 - ETA: 18s - loss: 0.1682 - acc: 0.94 - ETA: 17s - loss: 0.1681 - acc: 0.94 - ETA: 17s - loss: 0.1673 - acc: 0.94 - ETA: 17s - loss: 0.1661 - acc: 0.94 - ETA: 17s - loss: 0.1677 - acc: 0.94 - ETA: 17s - loss: 0.1668 - acc: 0.94 - ETA: 16s - loss: 0.1667 - acc: 0.94 - ETA: 16s - loss: 0.1663 - acc: 0.94 - ETA: 16s - loss: 0.1662 - acc: 0.94 - ETA: 16s - loss: 0.1651 - acc: 0.94 - ETA: 15s - loss: 0.1649 - acc: 0.94 - ETA: 15s - loss: 0.1637 - acc: 0.94 - ETA: 15s - loss: 0.1629 - acc: 0.94 - ETA: 15s - loss: 0.1625 - acc: 0.94 - ETA: 14s - loss: 0.1616 - acc: 0.94 - ETA: 14s - loss: 0.1615 - acc: 0.94 - ETA: 14s - loss: 0.1623 - acc: 0.94 - ETA: 14s - loss: 0.1625 - acc: 0.94 - ETA: 14s - loss: 0.1620 - acc: 0.94 - ETA: 13s - loss: 0.1621 - acc: 0.94 - ETA: 13s - loss: 0.1627 - acc: 0.94 - ETA: 13s - loss: 0.1627 - acc: 0.94 - ETA: 13s - loss: 0.1625 - acc: 0.94 - ETA: 12s - loss: 0.1627 - acc: 0.94 - ETA: 12s - loss: 0.1635 - acc: 0.94 - ETA: 12s - loss: 0.1637 - acc: 0.94 - ETA: 12s - loss: 0.1634 - acc: 0.94 - ETA: 12s - loss: 0.1636 - acc: 0.94 - ETA: 11s - loss: 0.1645 - acc: 0.94 - ETA: 11s - loss: 0.1651 - acc: 0.94 - ETA: 11s - loss: 0.1650 - acc: 0.94 - ETA: 11s - loss: 0.1652 - acc: 0.94 - ETA: 11s - loss: 0.1646 - acc: 0.94 - ETA: 10s - loss: 0.1641 - acc: 0.94 - ETA: 10s - loss: 0.1636 - acc: 0.94 - ETA: 10s - loss: 0.1639 - acc: 0.94 - ETA: 10s - loss: 0.1642 - acc: 0.94 - ETA: 9s - loss: 0.1642 - acc: 0.9491 - ETA: 9s - loss: 0.1636 - acc: 0.949 - ETA: 9s - loss: 0.1637 - acc: 0.949 - ETA: 9s - loss: 0.1634 - acc: 0.949 - ETA: 9s - loss: 0.1631 - acc: 0.949 - ETA: 8s - loss: 0.1630 - acc: 0.949 - ETA: 8s - loss: 0.1627 - acc: 0.949 - ETA: 8s - loss: 0.1629 - acc: 0.949 - ETA: 8s - loss: 0.1624 - acc: 0.949 - ETA: 8s - loss: 0.1612 - acc: 0.950 - ETA: 7s - loss: 0.1615 - acc: 0.950 - ETA: 7s - loss: 0.1612 - acc: 0.950 - ETA: 7s - loss: 0.1614 - acc: 0.950 - ETA: 7s - loss: 0.1609 - acc: 0.950 - ETA: 6s - loss: 0.1618 - acc: 0.950 - ETA: 6s - loss: 0.1618 - acc: 0.950 - ETA: 6s - loss: 0.1610 - acc: 0.950 - ETA: 6s - loss: 0.1610 - acc: 0.950 - ETA: 6s - loss: 0.1607 - acc: 0.950 - ETA: 5s - loss: 0.1600 - acc: 0.950 - ETA: 5s - loss: 0.1596 - acc: 0.951 - ETA: 5s - loss: 0.1596 - acc: 0.951 - ETA: 5s - loss: 0.1593 - acc: 0.951 - ETA: 4s - loss: 0.1586 - acc: 0.951 - ETA: 4s - loss: 0.1580 - acc: 0.951 - ETA: 4s - loss: 0.1579 - acc: 0.951 - ETA: 4s - loss: 0.1577 - acc: 0.951 - ETA: 4s - loss: 0.1580 - acc: 0.951 - ETA: 3s - loss: 0.1581 - acc: 0.951 - ETA: 3s - loss: 0.1580 - acc: 0.951 - ETA: 3s - loss: 0.1575 - acc: 0.951 - ETA: 3s - loss: 0.1571 - acc: 0.951 - ETA: 2s - loss: 0.1566 - acc: 0.951 - ETA: 2s - loss: 0.1564 - acc: 0.951 - ETA: 2s - loss: 0.1565 - acc: 0.951 - ETA: 2s - loss: 0.1565 - acc: 0.951 - ETA: 2s - loss: 0.1560 - acc: 0.952 - ETA: 1s - loss: 0.1559 - acc: 0.952 - ETA: 1s - loss: 0.1554 - acc: 0.952 - ETA: 1s - loss: 0.1551 - acc: 0.952 - ETA: 1s - loss: 0.1551 - acc: 0.952 - ETA: 1s - loss: 0.1549 - acc: 0.952 - ETA: 0s - loss: 0.1548 - acc: 0.952 - ETA: 0s - loss: 0.1543 - acc: 0.952 - ETA: 0s - loss: 0.1554 - acc: 0.952 - ETA: 0s - loss: 0.1558 - acc: 0.952 - 33s 925us/step - loss: 0.1556 - acc: 0.9520 - val_loss: 0.2020 - val_acc: 0.9360\n",
      "Epoch 4/10\n",
      "35535/35535 [==============================] - ETA: 25s - loss: 0.2080 - acc: 0.92 - ETA: 28s - loss: 0.1694 - acc: 0.94 - ETA: 28s - loss: 0.1860 - acc: 0.94 - ETA: 27s - loss: 0.1812 - acc: 0.94 - ETA: 27s - loss: 0.1575 - acc: 0.95 - ETA: 26s - loss: 0.1509 - acc: 0.95 - ETA: 26s - loss: 0.1443 - acc: 0.95 - ETA: 26s - loss: 0.1505 - acc: 0.95 - ETA: 26s - loss: 0.1488 - acc: 0.95 - ETA: 25s - loss: 0.1459 - acc: 0.95 - ETA: 25s - loss: 0.1453 - acc: 0.95 - ETA: 25s - loss: 0.1467 - acc: 0.95 - ETA: 25s - loss: 0.1417 - acc: 0.95 - ETA: 24s - loss: 0.1430 - acc: 0.95 - ETA: 24s - loss: 0.1417 - acc: 0.95 - ETA: 24s - loss: 0.1395 - acc: 0.95 - ETA: 24s - loss: 0.1357 - acc: 0.95 - ETA: 24s - loss: 0.1332 - acc: 0.95 - ETA: 24s - loss: 0.1359 - acc: 0.95 - ETA: 24s - loss: 0.1372 - acc: 0.95 - ETA: 24s - loss: 0.1354 - acc: 0.95 - ETA: 23s - loss: 0.1349 - acc: 0.96 - ETA: 23s - loss: 0.1339 - acc: 0.96 - ETA: 23s - loss: 0.1319 - acc: 0.96 - ETA: 23s - loss: 0.1321 - acc: 0.96 - ETA: 22s - loss: 0.1343 - acc: 0.96 - ETA: 22s - loss: 0.1351 - acc: 0.96 - ETA: 22s - loss: 0.1385 - acc: 0.96 - ETA: 22s - loss: 0.1384 - acc: 0.96 - ETA: 22s - loss: 0.1383 - acc: 0.96 - ETA: 21s - loss: 0.1398 - acc: 0.95 - ETA: 21s - loss: 0.1391 - acc: 0.96 - ETA: 21s - loss: 0.1368 - acc: 0.96 - ETA: 21s - loss: 0.1357 - acc: 0.96 - ETA: 20s - loss: 0.1345 - acc: 0.96 - ETA: 20s - loss: 0.1334 - acc: 0.96 - ETA: 20s - loss: 0.1336 - acc: 0.96 - ETA: 20s - loss: 0.1318 - acc: 0.96 - ETA: 20s - loss: 0.1309 - acc: 0.96 - ETA: 19s - loss: 0.1312 - acc: 0.96 - ETA: 19s - loss: 0.1302 - acc: 0.96 - ETA: 19s - loss: 0.1298 - acc: 0.96 - ETA: 19s - loss: 0.1307 - acc: 0.96 - ETA: 19s - loss: 0.1304 - acc: 0.96 - ETA: 18s - loss: 0.1296 - acc: 0.96 - ETA: 18s - loss: 0.1281 - acc: 0.96 - ETA: 18s - loss: 0.1284 - acc: 0.96 - ETA: 18s - loss: 0.1280 - acc: 0.96 - ETA: 18s - loss: 0.1274 - acc: 0.96 - ETA: 17s - loss: 0.1276 - acc: 0.96 - ETA: 17s - loss: 0.1275 - acc: 0.96 - ETA: 17s - loss: 0.1286 - acc: 0.96 - ETA: 17s - loss: 0.1291 - acc: 0.96 - ETA: 16s - loss: 0.1291 - acc: 0.96 - ETA: 16s - loss: 0.1287 - acc: 0.96 - ETA: 16s - loss: 0.1289 - acc: 0.96 - ETA: 16s - loss: 0.1302 - acc: 0.96 - ETA: 16s - loss: 0.1298 - acc: 0.96 - ETA: 15s - loss: 0.1294 - acc: 0.96 - ETA: 15s - loss: 0.1285 - acc: 0.96 - ETA: 15s - loss: 0.1280 - acc: 0.96 - ETA: 15s - loss: 0.1271 - acc: 0.96 - ETA: 15s - loss: 0.1269 - acc: 0.96 - ETA: 14s - loss: 0.1259 - acc: 0.96 - ETA: 14s - loss: 0.1255 - acc: 0.96 - ETA: 14s - loss: 0.1259 - acc: 0.96 - ETA: 14s - loss: 0.1261 - acc: 0.96 - ETA: 13s - loss: 0.1267 - acc: 0.96 - ETA: 13s - loss: 0.1259 - acc: 0.96 - ETA: 13s - loss: 0.1263 - acc: 0.96 - ETA: 13s - loss: 0.1273 - acc: 0.96 - ETA: 13s - loss: 0.1276 - acc: 0.96 - ETA: 13s - loss: 0.1277 - acc: 0.96 - ETA: 12s - loss: 0.1277 - acc: 0.96 - ETA: 12s - loss: 0.1276 - acc: 0.96 - ETA: 12s - loss: 0.1272 - acc: 0.96 - ETA: 12s - loss: 0.1269 - acc: 0.96 - ETA: 11s - loss: 0.1265 - acc: 0.96 - ETA: 11s - loss: 0.1270 - acc: 0.96 - ETA: 11s - loss: 0.1268 - acc: 0.96 - ETA: 11s - loss: 0.1266 - acc: 0.96 - ETA: 11s - loss: 0.1265 - acc: 0.96 - ETA: 10s - loss: 0.1264 - acc: 0.96 - ETA: 10s - loss: 0.1259 - acc: 0.96 - ETA: 10s - loss: 0.1251 - acc: 0.96 - ETA: 10s - loss: 0.1249 - acc: 0.96 - ETA: 10s - loss: 0.1242 - acc: 0.96 - ETA: 9s - loss: 0.1237 - acc: 0.9643 - ETA: 9s - loss: 0.1233 - acc: 0.964 - ETA: 9s - loss: 0.1226 - acc: 0.964 - ETA: 9s - loss: 0.1229 - acc: 0.964 - ETA: 9s - loss: 0.1245 - acc: 0.964 - ETA: 8s - loss: 0.1255 - acc: 0.963 - ETA: 8s - loss: 0.1260 - acc: 0.963 - ETA: 8s - loss: 0.1255 - acc: 0.963 - ETA: 8s - loss: 0.1250 - acc: 0.963 - ETA: 8s - loss: 0.1245 - acc: 0.963 - ETA: 7s - loss: 0.1241 - acc: 0.964 - ETA: 7s - loss: 0.1237 - acc: 0.964 - ETA: 7s - loss: 0.1235 - acc: 0.964 - ETA: 7s - loss: 0.1236 - acc: 0.964 - ETA: 7s - loss: 0.1242 - acc: 0.963 - ETA: 6s - loss: 0.1242 - acc: 0.963 - ETA: 6s - loss: 0.1237 - acc: 0.963 - ETA: 6s - loss: 0.1235 - acc: 0.963 - ETA: 6s - loss: 0.1234 - acc: 0.963 - ETA: 6s - loss: 0.1230 - acc: 0.963 - ETA: 6s - loss: 0.1229 - acc: 0.963 - ETA: 5s - loss: 0.1228 - acc: 0.963 - ETA: 5s - loss: 0.1230 - acc: 0.963 - ETA: 5s - loss: 0.1234 - acc: 0.963 - ETA: 5s - loss: 0.1231 - acc: 0.963 - ETA: 5s - loss: 0.1229 - acc: 0.963 - ETA: 4s - loss: 0.1224 - acc: 0.964 - ETA: 4s - loss: 0.1221 - acc: 0.964 - ETA: 4s - loss: 0.1217 - acc: 0.964 - ETA: 4s - loss: 0.1217 - acc: 0.964 - ETA: 4s - loss: 0.1216 - acc: 0.964 - ETA: 3s - loss: 0.1212 - acc: 0.964 - ETA: 3s - loss: 0.1213 - acc: 0.964 - ETA: 3s - loss: 0.1211 - acc: 0.964 - ETA: 3s - loss: 0.1209 - acc: 0.964 - ETA: 3s - loss: 0.1202 - acc: 0.965 - ETA: 2s - loss: 0.1204 - acc: 0.964 - ETA: 2s - loss: 0.1212 - acc: 0.964 - ETA: 2s - loss: 0.1215 - acc: 0.964 - ETA: 2s - loss: 0.1216 - acc: 0.964 - ETA: 2s - loss: 0.1212 - acc: 0.964 - ETA: 1s - loss: 0.1210 - acc: 0.964 - ETA: 1s - loss: 0.1209 - acc: 0.964 - ETA: 1s - loss: 0.1212 - acc: 0.964 - ETA: 1s - loss: 0.1216 - acc: 0.964 - ETA: 1s - loss: 0.1216 - acc: 0.964 - ETA: 0s - loss: 0.1220 - acc: 0.964 - ETA: 0s - loss: 0.1223 - acc: 0.964 - ETA: 0s - loss: 0.1221 - acc: 0.964 - ETA: 0s - loss: 0.1219 - acc: 0.964 - ETA: 0s - loss: 0.1218 - acc: 0.964 - 30s 848us/step - loss: 0.1220 - acc: 0.9642 - val_loss: 0.1292 - val_acc: 0.9591\n",
      "Epoch 5/10\n",
      "35535/35535 [==============================] - ETA: 27s - loss: 0.0725 - acc: 0.97 - ETA: 26s - loss: 0.0815 - acc: 0.97 - ETA: 27s - loss: 0.0840 - acc: 0.96 - ETA: 26s - loss: 0.0784 - acc: 0.96 - ETA: 26s - loss: 0.0782 - acc: 0.97 - ETA: 26s - loss: 0.0834 - acc: 0.96 - ETA: 25s - loss: 0.0803 - acc: 0.97 - ETA: 25s - loss: 0.0802 - acc: 0.97 - ETA: 25s - loss: 0.0785 - acc: 0.97 - ETA: 25s - loss: 0.0829 - acc: 0.97 - ETA: 25s - loss: 0.0823 - acc: 0.97 - ETA: 24s - loss: 0.0808 - acc: 0.97 - ETA: 24s - loss: 0.0832 - acc: 0.97 - ETA: 24s - loss: 0.0871 - acc: 0.97 - ETA: 24s - loss: 0.0869 - acc: 0.97 - ETA: 24s - loss: 0.0881 - acc: 0.97 - ETA: 23s - loss: 0.0889 - acc: 0.97 - ETA: 23s - loss: 0.0885 - acc: 0.97 - ETA: 23s - loss: 0.0862 - acc: 0.97 - ETA: 23s - loss: 0.0876 - acc: 0.97 - ETA: 23s - loss: 0.0897 - acc: 0.97 - ETA: 22s - loss: 0.0902 - acc: 0.97 - ETA: 22s - loss: 0.0912 - acc: 0.97 - ETA: 22s - loss: 0.0909 - acc: 0.97 - ETA: 22s - loss: 0.0917 - acc: 0.97 - ETA: 22s - loss: 0.0919 - acc: 0.97 - ETA: 21s - loss: 0.0923 - acc: 0.97 - ETA: 21s - loss: 0.0920 - acc: 0.97 - ETA: 21s - loss: 0.0933 - acc: 0.97 - ETA: 21s - loss: 0.0936 - acc: 0.97 - ETA: 21s - loss: 0.0937 - acc: 0.97 - ETA: 20s - loss: 0.0942 - acc: 0.97 - ETA: 20s - loss: 0.0940 - acc: 0.97 - ETA: 20s - loss: 0.0945 - acc: 0.97 - ETA: 20s - loss: 0.0963 - acc: 0.97 - ETA: 19s - loss: 0.0962 - acc: 0.97 - ETA: 19s - loss: 0.0950 - acc: 0.97 - ETA: 19s - loss: 0.0948 - acc: 0.97 - ETA: 19s - loss: 0.0951 - acc: 0.97 - ETA: 19s - loss: 0.0946 - acc: 0.97 - ETA: 18s - loss: 0.0958 - acc: 0.97 - ETA: 18s - loss: 0.0959 - acc: 0.97 - ETA: 18s - loss: 0.0954 - acc: 0.97 - ETA: 18s - loss: 0.0956 - acc: 0.97 - ETA: 18s - loss: 0.0958 - acc: 0.97 - ETA: 17s - loss: 0.0968 - acc: 0.97 - ETA: 17s - loss: 0.0971 - acc: 0.96 - ETA: 17s - loss: 0.0984 - acc: 0.96 - ETA: 17s - loss: 0.0988 - acc: 0.96 - ETA: 17s - loss: 0.0988 - acc: 0.96 - ETA: 16s - loss: 0.0991 - acc: 0.96 - ETA: 16s - loss: 0.0991 - acc: 0.96 - ETA: 16s - loss: 0.0981 - acc: 0.96 - ETA: 16s - loss: 0.0981 - acc: 0.96 - ETA: 16s - loss: 0.0975 - acc: 0.96 - ETA: 15s - loss: 0.0981 - acc: 0.96 - ETA: 15s - loss: 0.0978 - acc: 0.96 - ETA: 15s - loss: 0.0981 - acc: 0.96 - ETA: 15s - loss: 0.0982 - acc: 0.96 - ETA: 15s - loss: 0.0986 - acc: 0.96 - ETA: 14s - loss: 0.1000 - acc: 0.96 - ETA: 14s - loss: 0.0998 - acc: 0.96 - ETA: 14s - loss: 0.1000 - acc: 0.96 - ETA: 14s - loss: 0.0996 - acc: 0.96 - ETA: 14s - loss: 0.0994 - acc: 0.96 - ETA: 14s - loss: 0.0994 - acc: 0.96 - ETA: 13s - loss: 0.0986 - acc: 0.96 - ETA: 13s - loss: 0.0985 - acc: 0.96 - ETA: 13s - loss: 0.0984 - acc: 0.96 - ETA: 13s - loss: 0.0990 - acc: 0.96 - ETA: 13s - loss: 0.0998 - acc: 0.96 - ETA: 12s - loss: 0.0998 - acc: 0.96 - ETA: 12s - loss: 0.0996 - acc: 0.96 - ETA: 12s - loss: 0.0998 - acc: 0.96 - ETA: 12s - loss: 0.1006 - acc: 0.96 - ETA: 12s - loss: 0.1002 - acc: 0.96 - ETA: 11s - loss: 0.0996 - acc: 0.96 - ETA: 11s - loss: 0.0994 - acc: 0.96 - ETA: 11s - loss: 0.0991 - acc: 0.96 - ETA: 11s - loss: 0.0992 - acc: 0.96 - ETA: 11s - loss: 0.0988 - acc: 0.96 - ETA: 10s - loss: 0.0981 - acc: 0.96 - ETA: 10s - loss: 0.0978 - acc: 0.96 - ETA: 10s - loss: 0.0977 - acc: 0.96 - ETA: 10s - loss: 0.0972 - acc: 0.97 - ETA: 10s - loss: 0.0975 - acc: 0.97 - ETA: 9s - loss: 0.0975 - acc: 0.9701 - ETA: 9s - loss: 0.0977 - acc: 0.970 - ETA: 9s - loss: 0.0983 - acc: 0.969 - ETA: 9s - loss: 0.0981 - acc: 0.969 - ETA: 9s - loss: 0.0980 - acc: 0.970 - ETA: 8s - loss: 0.0981 - acc: 0.970 - ETA: 8s - loss: 0.0985 - acc: 0.969 - ETA: 8s - loss: 0.0985 - acc: 0.969 - ETA: 8s - loss: 0.0982 - acc: 0.969 - ETA: 8s - loss: 0.0984 - acc: 0.969 - ETA: 8s - loss: 0.0980 - acc: 0.970 - ETA: 7s - loss: 0.0977 - acc: 0.970 - ETA: 7s - loss: 0.0974 - acc: 0.970 - ETA: 7s - loss: 0.0989 - acc: 0.970 - ETA: 7s - loss: 0.0994 - acc: 0.969 - ETA: 7s - loss: 0.0990 - acc: 0.969 - ETA: 6s - loss: 0.0990 - acc: 0.970 - ETA: 6s - loss: 0.0988 - acc: 0.970 - ETA: 6s - loss: 0.0988 - acc: 0.970 - ETA: 6s - loss: 0.0984 - acc: 0.970 - ETA: 6s - loss: 0.0982 - acc: 0.970 - ETA: 5s - loss: 0.0984 - acc: 0.970 - ETA: 5s - loss: 0.0986 - acc: 0.969 - ETA: 5s - loss: 0.0987 - acc: 0.970 - ETA: 5s - loss: 0.0985 - acc: 0.970 - ETA: 5s - loss: 0.0985 - acc: 0.970 - ETA: 4s - loss: 0.0984 - acc: 0.970 - ETA: 4s - loss: 0.0988 - acc: 0.970 - ETA: 4s - loss: 0.0991 - acc: 0.970 - ETA: 4s - loss: 0.0994 - acc: 0.970 - ETA: 4s - loss: 0.0995 - acc: 0.969 - ETA: 3s - loss: 0.0994 - acc: 0.969 - ETA: 3s - loss: 0.0998 - acc: 0.969 - ETA: 3s - loss: 0.0997 - acc: 0.969 - ETA: 3s - loss: 0.0994 - acc: 0.970 - ETA: 3s - loss: 0.0992 - acc: 0.970 - ETA: 3s - loss: 0.0986 - acc: 0.970 - ETA: 2s - loss: 0.0981 - acc: 0.970 - ETA: 2s - loss: 0.0985 - acc: 0.970 - ETA: 2s - loss: 0.0985 - acc: 0.970 - ETA: 2s - loss: 0.0985 - acc: 0.970 - ETA: 2s - loss: 0.0984 - acc: 0.970 - ETA: 1s - loss: 0.0982 - acc: 0.970 - ETA: 1s - loss: 0.0982 - acc: 0.970 - ETA: 1s - loss: 0.0983 - acc: 0.970 - ETA: 1s - loss: 0.0982 - acc: 0.970 - ETA: 1s - loss: 0.0984 - acc: 0.970 - ETA: 0s - loss: 0.0984 - acc: 0.970 - ETA: 0s - loss: 0.0984 - acc: 0.970 - ETA: 0s - loss: 0.0984 - acc: 0.970 - ETA: 0s - loss: 0.0984 - acc: 0.970 - ETA: 0s - loss: 0.0983 - acc: 0.970 - 31s 866us/step - loss: 0.0984 - acc: 0.9703 - val_loss: 0.1136 - val_acc: 0.9686\n",
      "Epoch 6/10\n",
      "35535/35535 [==============================] - ETA: 27s - loss: 0.0750 - acc: 0.98 - ETA: 26s - loss: 0.0815 - acc: 0.97 - ETA: 25s - loss: 0.0750 - acc: 0.98 - ETA: 25s - loss: 0.0731 - acc: 0.98 - ETA: 25s - loss: 0.0741 - acc: 0.98 - ETA: 26s - loss: 0.0739 - acc: 0.97 - ETA: 26s - loss: 0.0785 - acc: 0.97 - ETA: 25s - loss: 0.0788 - acc: 0.97 - ETA: 25s - loss: 0.0882 - acc: 0.97 - ETA: 25s - loss: 0.0898 - acc: 0.97 - ETA: 25s - loss: 0.0894 - acc: 0.97 - ETA: 25s - loss: 0.0878 - acc: 0.97 - ETA: 25s - loss: 0.0889 - acc: 0.97 - ETA: 25s - loss: 0.0859 - acc: 0.97 - ETA: 24s - loss: 0.0841 - acc: 0.97 - ETA: 24s - loss: 0.0823 - acc: 0.97 - ETA: 24s - loss: 0.0821 - acc: 0.97 - ETA: 24s - loss: 0.0833 - acc: 0.97 - ETA: 23s - loss: 0.0815 - acc: 0.97 - ETA: 23s - loss: 0.0813 - acc: 0.97 - ETA: 23s - loss: 0.0808 - acc: 0.97 - ETA: 22s - loss: 0.0805 - acc: 0.97 - ETA: 22s - loss: 0.0814 - acc: 0.97 - ETA: 22s - loss: 0.0812 - acc: 0.97 - ETA: 22s - loss: 0.0809 - acc: 0.97 - ETA: 22s - loss: 0.0820 - acc: 0.97 - ETA: 22s - loss: 0.0832 - acc: 0.97 - ETA: 21s - loss: 0.0838 - acc: 0.97 - ETA: 21s - loss: 0.0858 - acc: 0.97 - ETA: 21s - loss: 0.0844 - acc: 0.97 - ETA: 21s - loss: 0.0842 - acc: 0.97 - ETA: 21s - loss: 0.0835 - acc: 0.97 - ETA: 20s - loss: 0.0827 - acc: 0.97 - ETA: 20s - loss: 0.0828 - acc: 0.97 - ETA: 20s - loss: 0.0822 - acc: 0.97 - ETA: 20s - loss: 0.0836 - acc: 0.97 - ETA: 20s - loss: 0.0824 - acc: 0.97 - ETA: 19s - loss: 0.0816 - acc: 0.97 - ETA: 19s - loss: 0.0813 - acc: 0.97 - ETA: 19s - loss: 0.0827 - acc: 0.97 - ETA: 19s - loss: 0.0825 - acc: 0.97 - ETA: 18s - loss: 0.0829 - acc: 0.97 - ETA: 18s - loss: 0.0839 - acc: 0.97 - ETA: 18s - loss: 0.0842 - acc: 0.97 - ETA: 18s - loss: 0.0834 - acc: 0.97 - ETA: 18s - loss: 0.0821 - acc: 0.97 - ETA: 17s - loss: 0.0811 - acc: 0.97 - ETA: 17s - loss: 0.0806 - acc: 0.97 - ETA: 17s - loss: 0.0807 - acc: 0.97 - ETA: 17s - loss: 0.0798 - acc: 0.97 - ETA: 17s - loss: 0.0788 - acc: 0.97 - ETA: 16s - loss: 0.0784 - acc: 0.97 - ETA: 16s - loss: 0.0791 - acc: 0.97 - ETA: 16s - loss: 0.0795 - acc: 0.97 - ETA: 16s - loss: 0.0797 - acc: 0.97 - ETA: 16s - loss: 0.0803 - acc: 0.97 - ETA: 15s - loss: 0.0802 - acc: 0.97 - ETA: 15s - loss: 0.0804 - acc: 0.97 - ETA: 15s - loss: 0.0810 - acc: 0.97 - ETA: 15s - loss: 0.0819 - acc: 0.97 - ETA: 15s - loss: 0.0821 - acc: 0.97 - ETA: 14s - loss: 0.0824 - acc: 0.97 - ETA: 14s - loss: 0.0819 - acc: 0.97 - ETA: 14s - loss: 0.0818 - acc: 0.97 - ETA: 14s - loss: 0.0818 - acc: 0.97 - ETA: 14s - loss: 0.0820 - acc: 0.97 - ETA: 13s - loss: 0.0815 - acc: 0.97 - ETA: 13s - loss: 0.0817 - acc: 0.97 - ETA: 13s - loss: 0.0814 - acc: 0.97 - ETA: 13s - loss: 0.0811 - acc: 0.97 - ETA: 13s - loss: 0.0817 - acc: 0.97 - ETA: 12s - loss: 0.0823 - acc: 0.97 - ETA: 12s - loss: 0.0829 - acc: 0.97 - ETA: 12s - loss: 0.0828 - acc: 0.97 - ETA: 12s - loss: 0.0826 - acc: 0.97 - ETA: 12s - loss: 0.0826 - acc: 0.97 - ETA: 12s - loss: 0.0827 - acc: 0.97 - ETA: 11s - loss: 0.0830 - acc: 0.97 - ETA: 11s - loss: 0.0832 - acc: 0.97 - ETA: 11s - loss: 0.0835 - acc: 0.97 - ETA: 11s - loss: 0.0834 - acc: 0.97 - ETA: 11s - loss: 0.0836 - acc: 0.97 - ETA: 10s - loss: 0.0842 - acc: 0.97 - ETA: 10s - loss: 0.0840 - acc: 0.97 - ETA: 10s - loss: 0.0843 - acc: 0.97 - ETA: 10s - loss: 0.0842 - acc: 0.97 - ETA: 10s - loss: 0.0840 - acc: 0.97 - ETA: 9s - loss: 0.0838 - acc: 0.9741 - ETA: 9s - loss: 0.0833 - acc: 0.974 - ETA: 9s - loss: 0.0828 - acc: 0.974 - ETA: 9s - loss: 0.0822 - acc: 0.974 - ETA: 9s - loss: 0.0821 - acc: 0.974 - ETA: 8s - loss: 0.0820 - acc: 0.974 - ETA: 8s - loss: 0.0815 - acc: 0.974 - ETA: 8s - loss: 0.0818 - acc: 0.974 - ETA: 8s - loss: 0.0820 - acc: 0.974 - ETA: 8s - loss: 0.0837 - acc: 0.974 - ETA: 7s - loss: 0.0835 - acc: 0.974 - ETA: 7s - loss: 0.0840 - acc: 0.974 - ETA: 7s - loss: 0.0843 - acc: 0.974 - ETA: 7s - loss: 0.0842 - acc: 0.974 - ETA: 7s - loss: 0.0842 - acc: 0.974 - ETA: 6s - loss: 0.0836 - acc: 0.974 - ETA: 6s - loss: 0.0837 - acc: 0.974 - ETA: 6s - loss: 0.0839 - acc: 0.974 - ETA: 6s - loss: 0.0839 - acc: 0.974 - ETA: 6s - loss: 0.0834 - acc: 0.974 - ETA: 5s - loss: 0.0832 - acc: 0.974 - ETA: 5s - loss: 0.0833 - acc: 0.974 - ETA: 5s - loss: 0.0831 - acc: 0.974 - ETA: 5s - loss: 0.0834 - acc: 0.974 - ETA: 5s - loss: 0.0830 - acc: 0.974 - ETA: 4s - loss: 0.0834 - acc: 0.974 - ETA: 4s - loss: 0.0837 - acc: 0.974 - ETA: 4s - loss: 0.0833 - acc: 0.974 - ETA: 4s - loss: 0.0835 - acc: 0.974 - ETA: 4s - loss: 0.0835 - acc: 0.974 - ETA: 4s - loss: 0.0835 - acc: 0.974 - ETA: 3s - loss: 0.0834 - acc: 0.974 - ETA: 3s - loss: 0.0833 - acc: 0.974 - ETA: 3s - loss: 0.0831 - acc: 0.974 - ETA: 3s - loss: 0.0832 - acc: 0.974 - ETA: 3s - loss: 0.0831 - acc: 0.974 - ETA: 2s - loss: 0.0831 - acc: 0.974 - ETA: 2s - loss: 0.0831 - acc: 0.974 - ETA: 2s - loss: 0.0829 - acc: 0.974 - ETA: 2s - loss: 0.0827 - acc: 0.974 - ETA: 2s - loss: 0.0826 - acc: 0.974 - ETA: 1s - loss: 0.0826 - acc: 0.974 - ETA: 1s - loss: 0.0824 - acc: 0.974 - ETA: 1s - loss: 0.0821 - acc: 0.974 - ETA: 1s - loss: 0.0822 - acc: 0.974 - ETA: 1s - loss: 0.0829 - acc: 0.974 - ETA: 0s - loss: 0.0831 - acc: 0.974 - ETA: 0s - loss: 0.0832 - acc: 0.974 - ETA: 0s - loss: 0.0831 - acc: 0.974 - ETA: 0s - loss: 0.0831 - acc: 0.974 - ETA: 0s - loss: 0.0831 - acc: 0.974 - 29s 830us/step - loss: 0.0831 - acc: 0.9748 - val_loss: 0.1070 - val_acc: 0.9707\n",
      "Epoch 7/10\n",
      "35535/35535 [==============================] - ETA: 27s - loss: 0.0433 - acc: 0.98 - ETA: 26s - loss: 0.0437 - acc: 0.98 - ETA: 26s - loss: 0.0642 - acc: 0.97 - ETA: 26s - loss: 0.0861 - acc: 0.97 - ETA: 26s - loss: 0.1003 - acc: 0.96 - ETA: 25s - loss: 0.0945 - acc: 0.96 - ETA: 24s - loss: 0.0872 - acc: 0.97 - ETA: 24s - loss: 0.0800 - acc: 0.97 - ETA: 24s - loss: 0.0774 - acc: 0.97 - ETA: 24s - loss: 0.0791 - acc: 0.97 - ETA: 24s - loss: 0.0771 - acc: 0.97 - ETA: 23s - loss: 0.0767 - acc: 0.97 - ETA: 23s - loss: 0.0745 - acc: 0.97 - ETA: 23s - loss: 0.0729 - acc: 0.97 - ETA: 23s - loss: 0.0725 - acc: 0.97 - ETA: 23s - loss: 0.0736 - acc: 0.97 - ETA: 23s - loss: 0.0716 - acc: 0.97 - ETA: 23s - loss: 0.0695 - acc: 0.97 - ETA: 22s - loss: 0.0680 - acc: 0.97 - ETA: 22s - loss: 0.0680 - acc: 0.97 - ETA: 22s - loss: 0.0673 - acc: 0.97 - ETA: 22s - loss: 0.0661 - acc: 0.97 - ETA: 22s - loss: 0.0668 - acc: 0.97 - ETA: 21s - loss: 0.0696 - acc: 0.97 - ETA: 21s - loss: 0.0734 - acc: 0.97 - ETA: 21s - loss: 0.0748 - acc: 0.97 - ETA: 21s - loss: 0.0740 - acc: 0.97 - ETA: 21s - loss: 0.0726 - acc: 0.97 - ETA: 20s - loss: 0.0750 - acc: 0.97 - ETA: 20s - loss: 0.0735 - acc: 0.97 - ETA: 20s - loss: 0.0727 - acc: 0.97 - ETA: 20s - loss: 0.0729 - acc: 0.97 - ETA: 20s - loss: 0.0730 - acc: 0.97 - ETA: 19s - loss: 0.0722 - acc: 0.97 - ETA: 19s - loss: 0.0742 - acc: 0.97 - ETA: 19s - loss: 0.0750 - acc: 0.97 - ETA: 19s - loss: 0.0745 - acc: 0.97 - ETA: 19s - loss: 0.0742 - acc: 0.97 - ETA: 18s - loss: 0.0737 - acc: 0.97 - ETA: 18s - loss: 0.0730 - acc: 0.97 - ETA: 18s - loss: 0.0723 - acc: 0.97 - ETA: 18s - loss: 0.0732 - acc: 0.97 - ETA: 18s - loss: 0.0741 - acc: 0.97 - ETA: 17s - loss: 0.0746 - acc: 0.97 - ETA: 17s - loss: 0.0750 - acc: 0.97 - ETA: 17s - loss: 0.0761 - acc: 0.97 - ETA: 17s - loss: 0.0753 - acc: 0.97 - ETA: 17s - loss: 0.0755 - acc: 0.97 - ETA: 17s - loss: 0.0758 - acc: 0.97 - ETA: 16s - loss: 0.0759 - acc: 0.97 - ETA: 16s - loss: 0.0757 - acc: 0.97 - ETA: 16s - loss: 0.0748 - acc: 0.97 - ETA: 16s - loss: 0.0742 - acc: 0.97 - ETA: 16s - loss: 0.0736 - acc: 0.97 - ETA: 15s - loss: 0.0750 - acc: 0.97 - ETA: 15s - loss: 0.0754 - acc: 0.97 - ETA: 15s - loss: 0.0751 - acc: 0.97 - ETA: 15s - loss: 0.0753 - acc: 0.97 - ETA: 15s - loss: 0.0755 - acc: 0.97 - ETA: 14s - loss: 0.0752 - acc: 0.97 - ETA: 14s - loss: 0.0751 - acc: 0.97 - ETA: 14s - loss: 0.0750 - acc: 0.97 - ETA: 14s - loss: 0.0752 - acc: 0.97 - ETA: 14s - loss: 0.0748 - acc: 0.97 - ETA: 13s - loss: 0.0738 - acc: 0.97 - ETA: 13s - loss: 0.0732 - acc: 0.97 - ETA: 13s - loss: 0.0732 - acc: 0.97 - ETA: 13s - loss: 0.0727 - acc: 0.97 - ETA: 13s - loss: 0.0736 - acc: 0.97 - ETA: 13s - loss: 0.0739 - acc: 0.97 - ETA: 12s - loss: 0.0734 - acc: 0.97 - ETA: 12s - loss: 0.0727 - acc: 0.97 - ETA: 12s - loss: 0.0720 - acc: 0.97 - ETA: 12s - loss: 0.0720 - acc: 0.97 - ETA: 12s - loss: 0.0717 - acc: 0.97 - ETA: 11s - loss: 0.0717 - acc: 0.97 - ETA: 11s - loss: 0.0717 - acc: 0.97 - ETA: 11s - loss: 0.0716 - acc: 0.97 - ETA: 11s - loss: 0.0717 - acc: 0.97 - ETA: 11s - loss: 0.0719 - acc: 0.97 - ETA: 10s - loss: 0.0716 - acc: 0.97 - ETA: 10s - loss: 0.0712 - acc: 0.97 - ETA: 10s - loss: 0.0713 - acc: 0.97 - ETA: 10s - loss: 0.0709 - acc: 0.97 - ETA: 10s - loss: 0.0708 - acc: 0.97 - ETA: 10s - loss: 0.0705 - acc: 0.97 - ETA: 9s - loss: 0.0705 - acc: 0.9791 - ETA: 9s - loss: 0.0708 - acc: 0.979 - ETA: 9s - loss: 0.0707 - acc: 0.979 - ETA: 9s - loss: 0.0709 - acc: 0.978 - ETA: 9s - loss: 0.0714 - acc: 0.978 - ETA: 8s - loss: 0.0716 - acc: 0.978 - ETA: 8s - loss: 0.0714 - acc: 0.978 - ETA: 8s - loss: 0.0714 - acc: 0.978 - ETA: 8s - loss: 0.0714 - acc: 0.978 - ETA: 8s - loss: 0.0716 - acc: 0.978 - ETA: 8s - loss: 0.0717 - acc: 0.978 - ETA: 7s - loss: 0.0716 - acc: 0.978 - ETA: 7s - loss: 0.0713 - acc: 0.978 - ETA: 7s - loss: 0.0712 - acc: 0.978 - ETA: 7s - loss: 0.0711 - acc: 0.978 - ETA: 7s - loss: 0.0708 - acc: 0.979 - ETA: 6s - loss: 0.0708 - acc: 0.979 - ETA: 6s - loss: 0.0711 - acc: 0.979 - ETA: 6s - loss: 0.0710 - acc: 0.978 - ETA: 6s - loss: 0.0707 - acc: 0.979 - ETA: 6s - loss: 0.0711 - acc: 0.978 - ETA: 5s - loss: 0.0713 - acc: 0.978 - ETA: 5s - loss: 0.0711 - acc: 0.979 - ETA: 5s - loss: 0.0707 - acc: 0.979 - ETA: 5s - loss: 0.0706 - acc: 0.979 - ETA: 5s - loss: 0.0701 - acc: 0.979 - ETA: 5s - loss: 0.0700 - acc: 0.979 - ETA: 4s - loss: 0.0702 - acc: 0.979 - ETA: 4s - loss: 0.0701 - acc: 0.979 - ETA: 4s - loss: 0.0701 - acc: 0.979 - ETA: 4s - loss: 0.0701 - acc: 0.979 - ETA: 4s - loss: 0.0702 - acc: 0.979 - ETA: 3s - loss: 0.0701 - acc: 0.979 - ETA: 3s - loss: 0.0698 - acc: 0.979 - ETA: 3s - loss: 0.0694 - acc: 0.979 - ETA: 3s - loss: 0.0696 - acc: 0.979 - ETA: 3s - loss: 0.0695 - acc: 0.979 - ETA: 2s - loss: 0.0693 - acc: 0.979 - ETA: 2s - loss: 0.0692 - acc: 0.979 - ETA: 2s - loss: 0.0693 - acc: 0.979 - ETA: 2s - loss: 0.0691 - acc: 0.979 - ETA: 2s - loss: 0.0691 - acc: 0.979 - ETA: 1s - loss: 0.0690 - acc: 0.979 - ETA: 1s - loss: 0.0688 - acc: 0.979 - ETA: 1s - loss: 0.0690 - acc: 0.979 - ETA: 1s - loss: 0.0693 - acc: 0.979 - ETA: 1s - loss: 0.0695 - acc: 0.979 - ETA: 0s - loss: 0.0695 - acc: 0.979 - ETA: 0s - loss: 0.0698 - acc: 0.979 - ETA: 0s - loss: 0.0704 - acc: 0.979 - ETA: 0s - loss: 0.0702 - acc: 0.979 - ETA: 0s - loss: 0.0702 - acc: 0.979 - 31s 862us/step - loss: 0.0702 - acc: 0.9793 - val_loss: 0.0888 - val_acc: 0.9743\n",
      "Epoch 8/10\n",
      "35535/35535 [==============================] - ETA: 30s - loss: 0.0291 - acc: 0.99 - ETA: 30s - loss: 0.0639 - acc: 0.98 - ETA: 29s - loss: 0.0790 - acc: 0.97 - ETA: 28s - loss: 0.0707 - acc: 0.97 - ETA: 28s - loss: 0.0653 - acc: 0.97 - ETA: 27s - loss: 0.0614 - acc: 0.98 - ETA: 27s - loss: 0.0586 - acc: 0.98 - ETA: 27s - loss: 0.0640 - acc: 0.98 - ETA: 27s - loss: 0.0640 - acc: 0.98 - ETA: 26s - loss: 0.0629 - acc: 0.98 - ETA: 26s - loss: 0.0622 - acc: 0.98 - ETA: 26s - loss: 0.0625 - acc: 0.98 - ETA: 26s - loss: 0.0597 - acc: 0.98 - ETA: 26s - loss: 0.0612 - acc: 0.98 - ETA: 26s - loss: 0.0610 - acc: 0.98 - ETA: 26s - loss: 0.0625 - acc: 0.98 - ETA: 26s - loss: 0.0603 - acc: 0.98 - ETA: 26s - loss: 0.0588 - acc: 0.98 - ETA: 26s - loss: 0.0594 - acc: 0.98 - ETA: 26s - loss: 0.0578 - acc: 0.98 - ETA: 26s - loss: 0.0566 - acc: 0.98 - ETA: 25s - loss: 0.0552 - acc: 0.98 - ETA: 25s - loss: 0.0548 - acc: 0.98 - ETA: 25s - loss: 0.0540 - acc: 0.98 - ETA: 25s - loss: 0.0536 - acc: 0.98 - ETA: 25s - loss: 0.0533 - acc: 0.98 - ETA: 25s - loss: 0.0549 - acc: 0.98 - ETA: 24s - loss: 0.0548 - acc: 0.98 - ETA: 24s - loss: 0.0553 - acc: 0.98 - ETA: 24s - loss: 0.0554 - acc: 0.98 - ETA: 24s - loss: 0.0552 - acc: 0.98 - ETA: 23s - loss: 0.0549 - acc: 0.98 - ETA: 23s - loss: 0.0551 - acc: 0.98 - ETA: 23s - loss: 0.0548 - acc: 0.98 - ETA: 23s - loss: 0.0564 - acc: 0.98 - ETA: 23s - loss: 0.0581 - acc: 0.98 - ETA: 23s - loss: 0.0592 - acc: 0.98 - ETA: 23s - loss: 0.0597 - acc: 0.98 - ETA: 22s - loss: 0.0595 - acc: 0.98 - ETA: 22s - loss: 0.0590 - acc: 0.98 - ETA: 22s - loss: 0.0595 - acc: 0.98 - ETA: 21s - loss: 0.0594 - acc: 0.98 - ETA: 21s - loss: 0.0591 - acc: 0.98 - ETA: 21s - loss: 0.0586 - acc: 0.98 - ETA: 21s - loss: 0.0584 - acc: 0.98 - ETA: 20s - loss: 0.0578 - acc: 0.98 - ETA: 20s - loss: 0.0570 - acc: 0.98 - ETA: 20s - loss: 0.0570 - acc: 0.98 - ETA: 20s - loss: 0.0567 - acc: 0.98 - ETA: 19s - loss: 0.0561 - acc: 0.98 - ETA: 19s - loss: 0.0554 - acc: 0.98 - ETA: 19s - loss: 0.0558 - acc: 0.98 - ETA: 19s - loss: 0.0555 - acc: 0.98 - ETA: 19s - loss: 0.0552 - acc: 0.98 - ETA: 18s - loss: 0.0566 - acc: 0.98 - ETA: 18s - loss: 0.0565 - acc: 0.98 - ETA: 18s - loss: 0.0561 - acc: 0.98 - ETA: 18s - loss: 0.0556 - acc: 0.98 - ETA: 17s - loss: 0.0554 - acc: 0.98 - ETA: 17s - loss: 0.0551 - acc: 0.98 - ETA: 17s - loss: 0.0566 - acc: 0.98 - ETA: 17s - loss: 0.0567 - acc: 0.98 - ETA: 16s - loss: 0.0568 - acc: 0.98 - ETA: 16s - loss: 0.0573 - acc: 0.98 - ETA: 16s - loss: 0.0581 - acc: 0.98 - ETA: 16s - loss: 0.0579 - acc: 0.98 - ETA: 15s - loss: 0.0573 - acc: 0.98 - ETA: 15s - loss: 0.0568 - acc: 0.98 - ETA: 15s - loss: 0.0569 - acc: 0.98 - ETA: 15s - loss: 0.0565 - acc: 0.98 - ETA: 14s - loss: 0.0564 - acc: 0.98 - ETA: 14s - loss: 0.0561 - acc: 0.98 - ETA: 14s - loss: 0.0560 - acc: 0.98 - ETA: 14s - loss: 0.0560 - acc: 0.98 - ETA: 13s - loss: 0.0561 - acc: 0.98 - ETA: 13s - loss: 0.0564 - acc: 0.98 - ETA: 13s - loss: 0.0563 - acc: 0.98 - ETA: 13s - loss: 0.0571 - acc: 0.98 - ETA: 12s - loss: 0.0575 - acc: 0.98 - ETA: 12s - loss: 0.0574 - acc: 0.98 - ETA: 12s - loss: 0.0574 - acc: 0.98 - ETA: 12s - loss: 0.0581 - acc: 0.98 - ETA: 11s - loss: 0.0578 - acc: 0.98 - ETA: 11s - loss: 0.0574 - acc: 0.98 - ETA: 11s - loss: 0.0575 - acc: 0.98 - ETA: 11s - loss: 0.0572 - acc: 0.98 - ETA: 11s - loss: 0.0568 - acc: 0.98 - ETA: 10s - loss: 0.0568 - acc: 0.98 - ETA: 10s - loss: 0.0569 - acc: 0.98 - ETA: 10s - loss: 0.0568 - acc: 0.98 - ETA: 10s - loss: 0.0568 - acc: 0.98 - ETA: 9s - loss: 0.0570 - acc: 0.9833 - ETA: 9s - loss: 0.0574 - acc: 0.983 - ETA: 9s - loss: 0.0575 - acc: 0.983 - ETA: 9s - loss: 0.0587 - acc: 0.983 - ETA: 9s - loss: 0.0591 - acc: 0.982 - ETA: 8s - loss: 0.0588 - acc: 0.982 - ETA: 8s - loss: 0.0588 - acc: 0.982 - ETA: 8s - loss: 0.0589 - acc: 0.982 - ETA: 8s - loss: 0.0589 - acc: 0.982 - ETA: 7s - loss: 0.0588 - acc: 0.982 - ETA: 7s - loss: 0.0584 - acc: 0.983 - ETA: 7s - loss: 0.0586 - acc: 0.983 - ETA: 7s - loss: 0.0585 - acc: 0.983 - ETA: 7s - loss: 0.0584 - acc: 0.983 - ETA: 6s - loss: 0.0582 - acc: 0.983 - ETA: 6s - loss: 0.0579 - acc: 0.983 - ETA: 6s - loss: 0.0578 - acc: 0.983 - ETA: 6s - loss: 0.0575 - acc: 0.983 - ETA: 5s - loss: 0.0577 - acc: 0.983 - ETA: 5s - loss: 0.0578 - acc: 0.983 - ETA: 5s - loss: 0.0575 - acc: 0.983 - ETA: 5s - loss: 0.0573 - acc: 0.983 - ETA: 5s - loss: 0.0575 - acc: 0.983 - ETA: 4s - loss: 0.0578 - acc: 0.983 - ETA: 4s - loss: 0.0580 - acc: 0.983 - ETA: 4s - loss: 0.0578 - acc: 0.983 - ETA: 4s - loss: 0.0580 - acc: 0.983 - ETA: 4s - loss: 0.0581 - acc: 0.983 - ETA: 3s - loss: 0.0580 - acc: 0.983 - ETA: 3s - loss: 0.0580 - acc: 0.983 - ETA: 3s - loss: 0.0577 - acc: 0.983 - ETA: 3s - loss: 0.0577 - acc: 0.983 - ETA: 3s - loss: 0.0581 - acc: 0.983 - ETA: 2s - loss: 0.0581 - acc: 0.983 - ETA: 2s - loss: 0.0586 - acc: 0.983 - ETA: 2s - loss: 0.0589 - acc: 0.983 - ETA: 2s - loss: 0.0593 - acc: 0.983 - ETA: 2s - loss: 0.0592 - acc: 0.983 - ETA: 1s - loss: 0.0592 - acc: 0.983 - ETA: 1s - loss: 0.0591 - acc: 0.983 - ETA: 1s - loss: 0.0593 - acc: 0.983 - ETA: 1s - loss: 0.0591 - acc: 0.983 - ETA: 0s - loss: 0.0589 - acc: 0.983 - ETA: 0s - loss: 0.0588 - acc: 0.983 - ETA: 0s - loss: 0.0589 - acc: 0.983 - ETA: 0s - loss: 0.0586 - acc: 0.983 - ETA: 0s - loss: 0.0586 - acc: 0.983 - 31s 878us/step - loss: 0.0589 - acc: 0.9833 - val_loss: 0.0908 - val_acc: 0.9764\n",
      "Epoch 9/10\n",
      "35535/35535 [==============================] - ETA: 21s - loss: 0.0351 - acc: 0.99 - ETA: 26s - loss: 0.0249 - acc: 0.99 - ETA: 27s - loss: 0.0519 - acc: 0.99 - ETA: 28s - loss: 0.0463 - acc: 0.99 - ETA: 27s - loss: 0.0440 - acc: 0.99 - ETA: 27s - loss: 0.0410 - acc: 0.99 - ETA: 26s - loss: 0.0392 - acc: 0.99 - ETA: 26s - loss: 0.0382 - acc: 0.99 - ETA: 26s - loss: 0.0405 - acc: 0.99 - ETA: 26s - loss: 0.0416 - acc: 0.98 - ETA: 25s - loss: 0.0418 - acc: 0.98 - ETA: 25s - loss: 0.0415 - acc: 0.98 - ETA: 25s - loss: 0.0423 - acc: 0.98 - ETA: 25s - loss: 0.0419 - acc: 0.98 - ETA: 25s - loss: 0.0446 - acc: 0.98 - ETA: 24s - loss: 0.0427 - acc: 0.98 - ETA: 24s - loss: 0.0432 - acc: 0.98 - ETA: 24s - loss: 0.0436 - acc: 0.98 - ETA: 24s - loss: 0.0435 - acc: 0.98 - ETA: 24s - loss: 0.0430 - acc: 0.98 - ETA: 24s - loss: 0.0450 - acc: 0.98 - ETA: 24s - loss: 0.0440 - acc: 0.98 - ETA: 23s - loss: 0.0438 - acc: 0.98 - ETA: 23s - loss: 0.0429 - acc: 0.98 - ETA: 23s - loss: 0.0449 - acc: 0.98 - ETA: 23s - loss: 0.0467 - acc: 0.98 - ETA: 23s - loss: 0.0472 - acc: 0.98 - ETA: 22s - loss: 0.0492 - acc: 0.98 - ETA: 22s - loss: 0.0516 - acc: 0.98 - ETA: 22s - loss: 0.0517 - acc: 0.98 - ETA: 22s - loss: 0.0511 - acc: 0.98 - ETA: 21s - loss: 0.0512 - acc: 0.98 - ETA: 21s - loss: 0.0535 - acc: 0.98 - ETA: 21s - loss: 0.0529 - acc: 0.98 - ETA: 21s - loss: 0.0538 - acc: 0.98 - ETA: 20s - loss: 0.0538 - acc: 0.98 - ETA: 20s - loss: 0.0538 - acc: 0.98 - ETA: 20s - loss: 0.0545 - acc: 0.98 - ETA: 20s - loss: 0.0547 - acc: 0.98 - ETA: 19s - loss: 0.0549 - acc: 0.98 - ETA: 19s - loss: 0.0547 - acc: 0.98 - ETA: 19s - loss: 0.0538 - acc: 0.98 - ETA: 19s - loss: 0.0534 - acc: 0.98 - ETA: 19s - loss: 0.0535 - acc: 0.98 - ETA: 18s - loss: 0.0534 - acc: 0.98 - ETA: 18s - loss: 0.0526 - acc: 0.98 - ETA: 18s - loss: 0.0518 - acc: 0.98 - ETA: 18s - loss: 0.0515 - acc: 0.98 - ETA: 18s - loss: 0.0514 - acc: 0.98 - ETA: 17s - loss: 0.0507 - acc: 0.98 - ETA: 17s - loss: 0.0511 - acc: 0.98 - ETA: 17s - loss: 0.0510 - acc: 0.98 - ETA: 17s - loss: 0.0520 - acc: 0.98 - ETA: 16s - loss: 0.0537 - acc: 0.98 - ETA: 16s - loss: 0.0541 - acc: 0.98 - ETA: 16s - loss: 0.0547 - acc: 0.98 - ETA: 16s - loss: 0.0540 - acc: 0.98 - ETA: 16s - loss: 0.0536 - acc: 0.98 - ETA: 15s - loss: 0.0538 - acc: 0.98 - ETA: 15s - loss: 0.0532 - acc: 0.98 - ETA: 15s - loss: 0.0531 - acc: 0.98 - ETA: 15s - loss: 0.0528 - acc: 0.98 - ETA: 15s - loss: 0.0529 - acc: 0.98 - ETA: 14s - loss: 0.0533 - acc: 0.98 - ETA: 14s - loss: 0.0537 - acc: 0.98 - ETA: 14s - loss: 0.0532 - acc: 0.98 - ETA: 14s - loss: 0.0529 - acc: 0.98 - ETA: 14s - loss: 0.0528 - acc: 0.98 - ETA: 13s - loss: 0.0525 - acc: 0.98 - ETA: 13s - loss: 0.0519 - acc: 0.98 - ETA: 13s - loss: 0.0517 - acc: 0.98 - ETA: 13s - loss: 0.0512 - acc: 0.98 - ETA: 13s - loss: 0.0508 - acc: 0.98 - ETA: 13s - loss: 0.0511 - acc: 0.98 - ETA: 12s - loss: 0.0512 - acc: 0.98 - ETA: 12s - loss: 0.0511 - acc: 0.98 - ETA: 12s - loss: 0.0510 - acc: 0.98 - ETA: 12s - loss: 0.0507 - acc: 0.98 - ETA: 12s - loss: 0.0504 - acc: 0.98 - ETA: 11s - loss: 0.0507 - acc: 0.98 - ETA: 11s - loss: 0.0505 - acc: 0.98 - ETA: 11s - loss: 0.0507 - acc: 0.98 - ETA: 11s - loss: 0.0520 - acc: 0.98 - ETA: 11s - loss: 0.0520 - acc: 0.98 - ETA: 10s - loss: 0.0520 - acc: 0.98 - ETA: 10s - loss: 0.0522 - acc: 0.98 - ETA: 10s - loss: 0.0522 - acc: 0.98 - ETA: 10s - loss: 0.0521 - acc: 0.98 - ETA: 10s - loss: 0.0523 - acc: 0.98 - ETA: 9s - loss: 0.0524 - acc: 0.9856 - ETA: 9s - loss: 0.0522 - acc: 0.985 - ETA: 9s - loss: 0.0521 - acc: 0.985 - ETA: 9s - loss: 0.0522 - acc: 0.985 - ETA: 9s - loss: 0.0520 - acc: 0.985 - ETA: 8s - loss: 0.0519 - acc: 0.985 - ETA: 8s - loss: 0.0514 - acc: 0.985 - ETA: 8s - loss: 0.0519 - acc: 0.985 - ETA: 8s - loss: 0.0522 - acc: 0.985 - ETA: 8s - loss: 0.0522 - acc: 0.985 - ETA: 7s - loss: 0.0521 - acc: 0.985 - ETA: 7s - loss: 0.0518 - acc: 0.985 - ETA: 7s - loss: 0.0516 - acc: 0.985 - ETA: 7s - loss: 0.0517 - acc: 0.985 - ETA: 7s - loss: 0.0515 - acc: 0.985 - ETA: 6s - loss: 0.0515 - acc: 0.985 - ETA: 6s - loss: 0.0517 - acc: 0.985 - ETA: 6s - loss: 0.0521 - acc: 0.985 - ETA: 6s - loss: 0.0522 - acc: 0.985 - ETA: 6s - loss: 0.0523 - acc: 0.985 - ETA: 5s - loss: 0.0529 - acc: 0.985 - ETA: 5s - loss: 0.0531 - acc: 0.984 - ETA: 5s - loss: 0.0528 - acc: 0.985 - ETA: 5s - loss: 0.0526 - acc: 0.985 - ETA: 4s - loss: 0.0531 - acc: 0.985 - ETA: 4s - loss: 0.0530 - acc: 0.985 - ETA: 4s - loss: 0.0531 - acc: 0.985 - ETA: 4s - loss: 0.0530 - acc: 0.985 - ETA: 4s - loss: 0.0533 - acc: 0.985 - ETA: 3s - loss: 0.0532 - acc: 0.985 - ETA: 3s - loss: 0.0532 - acc: 0.985 - ETA: 3s - loss: 0.0531 - acc: 0.985 - ETA: 3s - loss: 0.0530 - acc: 0.985 - ETA: 3s - loss: 0.0527 - acc: 0.985 - ETA: 2s - loss: 0.0526 - acc: 0.985 - ETA: 2s - loss: 0.0526 - acc: 0.985 - ETA: 2s - loss: 0.0525 - acc: 0.985 - ETA: 2s - loss: 0.0525 - acc: 0.985 - ETA: 2s - loss: 0.0524 - acc: 0.985 - ETA: 1s - loss: 0.0530 - acc: 0.985 - ETA: 1s - loss: 0.0532 - acc: 0.985 - ETA: 1s - loss: 0.0531 - acc: 0.985 - ETA: 1s - loss: 0.0532 - acc: 0.985 - ETA: 1s - loss: 0.0532 - acc: 0.985 - ETA: 0s - loss: 0.0533 - acc: 0.985 - ETA: 0s - loss: 0.0535 - acc: 0.985 - ETA: 0s - loss: 0.0534 - acc: 0.984 - ETA: 0s - loss: 0.0532 - acc: 0.985 - ETA: 0s - loss: 0.0534 - acc: 0.984 - 30s 855us/step - loss: 0.0533 - acc: 0.9850 - val_loss: 0.0834 - val_acc: 0.9761\n",
      "Epoch 10/10\n",
      "35535/35535 [==============================] - ETA: 26s - loss: 0.0475 - acc: 0.98 - ETA: 26s - loss: 0.0450 - acc: 0.98 - ETA: 26s - loss: 0.0479 - acc: 0.98 - ETA: 26s - loss: 0.0424 - acc: 0.98 - ETA: 26s - loss: 0.0369 - acc: 0.98 - ETA: 26s - loss: 0.0446 - acc: 0.98 - ETA: 25s - loss: 0.0454 - acc: 0.98 - ETA: 25s - loss: 0.0436 - acc: 0.98 - ETA: 25s - loss: 0.0425 - acc: 0.98 - ETA: 24s - loss: 0.0416 - acc: 0.98 - ETA: 24s - loss: 0.0390 - acc: 0.98 - ETA: 24s - loss: 0.0369 - acc: 0.98 - ETA: 24s - loss: 0.0378 - acc: 0.98 - ETA: 24s - loss: 0.0391 - acc: 0.98 - ETA: 24s - loss: 0.0391 - acc: 0.98 - ETA: 23s - loss: 0.0387 - acc: 0.98 - ETA: 23s - loss: 0.0379 - acc: 0.98 - ETA: 23s - loss: 0.0404 - acc: 0.98 - ETA: 23s - loss: 0.0399 - acc: 0.98 - ETA: 23s - loss: 0.0412 - acc: 0.98 - ETA: 22s - loss: 0.0432 - acc: 0.98 - ETA: 22s - loss: 0.0423 - acc: 0.98 - ETA: 22s - loss: 0.0419 - acc: 0.98 - ETA: 22s - loss: 0.0410 - acc: 0.98 - ETA: 22s - loss: 0.0400 - acc: 0.98 - ETA: 21s - loss: 0.0419 - acc: 0.98 - ETA: 21s - loss: 0.0419 - acc: 0.98 - ETA: 21s - loss: 0.0431 - acc: 0.98 - ETA: 21s - loss: 0.0435 - acc: 0.98 - ETA: 21s - loss: 0.0435 - acc: 0.98 - ETA: 20s - loss: 0.0442 - acc: 0.98 - ETA: 20s - loss: 0.0441 - acc: 0.98 - ETA: 20s - loss: 0.0436 - acc: 0.98 - ETA: 20s - loss: 0.0450 - acc: 0.98 - ETA: 19s - loss: 0.0450 - acc: 0.98 - ETA: 19s - loss: 0.0456 - acc: 0.98 - ETA: 19s - loss: 0.0453 - acc: 0.98 - ETA: 19s - loss: 0.0450 - acc: 0.98 - ETA: 19s - loss: 0.0442 - acc: 0.98 - ETA: 19s - loss: 0.0437 - acc: 0.98 - ETA: 18s - loss: 0.0437 - acc: 0.98 - ETA: 18s - loss: 0.0430 - acc: 0.98 - ETA: 18s - loss: 0.0428 - acc: 0.98 - ETA: 18s - loss: 0.0421 - acc: 0.98 - ETA: 18s - loss: 0.0419 - acc: 0.98 - ETA: 18s - loss: 0.0413 - acc: 0.98 - ETA: 17s - loss: 0.0408 - acc: 0.98 - ETA: 17s - loss: 0.0417 - acc: 0.98 - ETA: 17s - loss: 0.0432 - acc: 0.98 - ETA: 17s - loss: 0.0434 - acc: 0.98 - ETA: 17s - loss: 0.0432 - acc: 0.98 - ETA: 16s - loss: 0.0432 - acc: 0.98 - ETA: 16s - loss: 0.0433 - acc: 0.98 - ETA: 16s - loss: 0.0438 - acc: 0.98 - ETA: 16s - loss: 0.0457 - acc: 0.98 - ETA: 16s - loss: 0.0464 - acc: 0.98 - ETA: 15s - loss: 0.0472 - acc: 0.98 - ETA: 15s - loss: 0.0468 - acc: 0.98 - ETA: 15s - loss: 0.0471 - acc: 0.98 - ETA: 15s - loss: 0.0467 - acc: 0.98 - ETA: 15s - loss: 0.0462 - acc: 0.98 - ETA: 14s - loss: 0.0460 - acc: 0.98 - ETA: 14s - loss: 0.0457 - acc: 0.98 - ETA: 14s - loss: 0.0451 - acc: 0.98 - ETA: 14s - loss: 0.0454 - acc: 0.98 - ETA: 14s - loss: 0.0454 - acc: 0.98 - ETA: 13s - loss: 0.0453 - acc: 0.98 - ETA: 13s - loss: 0.0449 - acc: 0.98 - ETA: 13s - loss: 0.0445 - acc: 0.98 - ETA: 13s - loss: 0.0442 - acc: 0.98 - ETA: 13s - loss: 0.0438 - acc: 0.98 - ETA: 12s - loss: 0.0436 - acc: 0.98 - ETA: 12s - loss: 0.0436 - acc: 0.98 - ETA: 12s - loss: 0.0432 - acc: 0.98 - ETA: 12s - loss: 0.0434 - acc: 0.98 - ETA: 12s - loss: 0.0434 - acc: 0.98 - ETA: 11s - loss: 0.0437 - acc: 0.98 - ETA: 11s - loss: 0.0444 - acc: 0.98 - ETA: 11s - loss: 0.0448 - acc: 0.98 - ETA: 11s - loss: 0.0449 - acc: 0.98 - ETA: 11s - loss: 0.0450 - acc: 0.98 - ETA: 10s - loss: 0.0450 - acc: 0.98 - ETA: 10s - loss: 0.0447 - acc: 0.98 - ETA: 10s - loss: 0.0447 - acc: 0.98 - ETA: 10s - loss: 0.0446 - acc: 0.98 - ETA: 10s - loss: 0.0449 - acc: 0.98 - ETA: 9s - loss: 0.0459 - acc: 0.9872 - ETA: 9s - loss: 0.0459 - acc: 0.987 - ETA: 9s - loss: 0.0458 - acc: 0.987 - ETA: 9s - loss: 0.0456 - acc: 0.987 - ETA: 9s - loss: 0.0456 - acc: 0.987 - ETA: 9s - loss: 0.0456 - acc: 0.987 - ETA: 8s - loss: 0.0454 - acc: 0.987 - ETA: 8s - loss: 0.0452 - acc: 0.987 - ETA: 8s - loss: 0.0452 - acc: 0.987 - ETA: 8s - loss: 0.0450 - acc: 0.987 - ETA: 8s - loss: 0.0448 - acc: 0.987 - ETA: 7s - loss: 0.0450 - acc: 0.987 - ETA: 7s - loss: 0.0454 - acc: 0.987 - ETA: 7s - loss: 0.0455 - acc: 0.987 - ETA: 7s - loss: 0.0458 - acc: 0.987 - ETA: 7s - loss: 0.0456 - acc: 0.987 - ETA: 6s - loss: 0.0453 - acc: 0.987 - ETA: 6s - loss: 0.0457 - acc: 0.987 - ETA: 6s - loss: 0.0454 - acc: 0.987 - ETA: 6s - loss: 0.0452 - acc: 0.987 - ETA: 6s - loss: 0.0450 - acc: 0.987 - ETA: 5s - loss: 0.0450 - acc: 0.987 - ETA: 5s - loss: 0.0450 - acc: 0.987 - ETA: 5s - loss: 0.0449 - acc: 0.987 - ETA: 5s - loss: 0.0447 - acc: 0.987 - ETA: 5s - loss: 0.0447 - acc: 0.987 - ETA: 4s - loss: 0.0445 - acc: 0.987 - ETA: 4s - loss: 0.0448 - acc: 0.987 - ETA: 4s - loss: 0.0445 - acc: 0.987 - ETA: 4s - loss: 0.0445 - acc: 0.987 - ETA: 4s - loss: 0.0443 - acc: 0.987 - ETA: 4s - loss: 0.0443 - acc: 0.987 - ETA: 3s - loss: 0.0443 - acc: 0.987 - ETA: 3s - loss: 0.0445 - acc: 0.987 - ETA: 3s - loss: 0.0449 - acc: 0.987 - ETA: 3s - loss: 0.0448 - acc: 0.987 - ETA: 3s - loss: 0.0445 - acc: 0.987 - ETA: 2s - loss: 0.0444 - acc: 0.987 - ETA: 2s - loss: 0.0443 - acc: 0.987 - ETA: 2s - loss: 0.0443 - acc: 0.987 - ETA: 2s - loss: 0.0443 - acc: 0.987 - ETA: 2s - loss: 0.0444 - acc: 0.987 - ETA: 1s - loss: 0.0445 - acc: 0.987 - ETA: 1s - loss: 0.0445 - acc: 0.987 - ETA: 1s - loss: 0.0443 - acc: 0.987 - ETA: 1s - loss: 0.0446 - acc: 0.987 - ETA: 1s - loss: 0.0446 - acc: 0.987 - ETA: 0s - loss: 0.0445 - acc: 0.987 - ETA: 0s - loss: 0.0446 - acc: 0.987 - ETA: 0s - loss: 0.0445 - acc: 0.987 - ETA: 0s - loss: 0.0444 - acc: 0.987 - ETA: 0s - loss: 0.0442 - acc: 0.987 - 30s 840us/step - loss: 0.0442 - acc: 0.9876 - val_loss: 0.1084 - val_acc: 0.9713\n"
     ]
    },
    {
     "data": {
      "text/plain": [
       "<keras.callbacks.History at 0x21b75377ef0>"
      ]
     },
     "execution_count": 120,
     "metadata": {},
     "output_type": "execute_result"
    }
   ],
   "source": [
    "#vanilla CNN\n",
    "model=models.Sequential() \n",
    "model.add(layers.Conv2D(32, (5, 5), strides=(2, 2), activation='relu', input_shape=(80, 60,3)))\n",
    "model.add(layers.MaxPooling2D((2, 2))) \n",
    "model.add(layers.Conv2D(64, (3, 3), activation='relu'))\n",
    "model.add(layers.MaxPooling2D((2, 2))) \n",
    "model.add(layers.Conv2D(64, (3, 3), activation='relu')) \n",
    "model.add(layers.MaxPooling2D((2, 2))) \n",
    "model.add(layers.Flatten()) \n",
    "model.add(layers.Dense(128, activation='relu')) \n",
    "model.add(layers.Dense(7, activation='softmax')) \n",
    "model.compile(optimizer='rmsprop', loss='categorical_crossentropy', metrics=['accuracy']) \n",
    "model.fit(X_train, y_train, epochs=10, batch_size=256, verbose=1, validation_data=(X_test, y_test))"
   ]
  },
  {
   "cell_type": "code",
   "execution_count": 130,
   "metadata": {},
   "outputs": [
    {
     "name": "stdout",
     "output_type": "stream",
     "text": [
      "Accuracy of vanilla CNN for the dataset is oberved to be 98.76% in the 10th(last) epoch\n"
     ]
    }
   ],
   "source": [
    "print(\"Accuracy of vanilla CNN for the dataset is oberved to be 98.76% in the 10th(last) epoch\")"
   ]
  },
  {
   "cell_type": "code",
   "execution_count": 122,
   "metadata": {},
   "outputs": [],
   "source": [
    "#Question 2\n",
    "# PCA is one of the most common dimensionality reduction techniques used. \n",
    "#Using PCA with number of components ranging from 2 to 5, classify the given set of images using\n",
    "#a. K-Nearest Neighbours ( consider k=7) \n",
    "#b. Artificial Neural Network \n",
    "\n",
    "#PCA n=2\n",
    "from sklearn.decomposition import PCA\n",
    "pca = PCA(n_components=2)\n",
    "#shaping the dimensions of X(images array)\n",
    "X.shape=(3553520,180)\n",
    "principalComponents = pca.fit_transform(X)\n"
   ]
  },
  {
   "cell_type": "code",
   "execution_count": 123,
   "metadata": {},
   "outputs": [],
   "source": [
    "principalComponents.shape=(44419,80,2)"
   ]
  },
  {
   "cell_type": "code",
   "execution_count": 124,
   "metadata": {},
   "outputs": [],
   "source": [
    "#splitting test and train on the PCA values\n",
    "X_train, X_test, y_train, y_test= train_test_split(principalComponents,y1, test_size=1/7.0, random_state=0)"
   ]
  },
  {
   "cell_type": "code",
   "execution_count": 125,
   "metadata": {},
   "outputs": [
    {
     "data": {
      "text/plain": [
       "KNeighborsClassifier(algorithm='auto', leaf_size=30, metric='minkowski',\n",
       "                     metric_params=None, n_jobs=None, n_neighbors=7, p=2,\n",
       "                     weights='uniform')"
      ]
     },
     "execution_count": 125,
     "metadata": {},
     "output_type": "execute_result"
    }
   ],
   "source": [
    "#KNN for K=7\n",
    "X_train.shape=(38073,160)\n",
    "X_test.shape=(6346,160)\n",
    "scaler = StandardScaler()\n",
    "scaler.fit(X_train)\n",
    "X_train= scaler.transform(X_train)\n",
    "X_test= scaler.transform(X_test)\n",
    "classifier = KNeighborsClassifier(n_neighbors=7)\n",
    "classifier.fit(X_train, y_train)"
   ]
  },
  {
   "cell_type": "code",
   "execution_count": 126,
   "metadata": {},
   "outputs": [],
   "source": [
    "#prediction \n",
    "y_pred = classifier.predict(X_test)"
   ]
  },
  {
   "cell_type": "code",
   "execution_count": 128,
   "metadata": {},
   "outputs": [
    {
     "name": "stdout",
     "output_type": "stream",
     "text": [
      "For n=2 using KNN\n",
      "              precision    recall  f1-score   support\n",
      "\n",
      "           0       0.93      0.93      0.93      1532\n",
      "           1       0.98      0.98      0.98      3141\n",
      "           2       0.98      0.97      0.98      1304\n",
      "           3       0.00      0.00      0.00        11\n",
      "           4       0.00      0.00      0.00         0\n",
      "           5       0.91      0.83      0.87       357\n",
      "           6       1.00      1.00      1.00         1\n",
      "\n",
      "   micro avg       0.96      0.96      0.96      6346\n",
      "   macro avg       0.68      0.67      0.68      6346\n",
      "weighted avg       0.96      0.96      0.96      6346\n",
      " samples avg       0.96      0.96      0.96      6346\n",
      "\n",
      "Accuracy for n=2 using KNN 0.9554049795146549\n"
     ]
    }
   ],
   "source": [
    "#print classification_report and accuracy\n",
    "#print(confusion_matrix(y_test, y_pred))\n",
    "print(\"For n=2 using KNN\")\n",
    "print(classification_report(y_test, y_pred))\n",
    "score = accuracy_score(y_test,y_pred)\n",
    "print(\"Accuracy for n=2 using KNN\",score)"
   ]
  },
  {
   "cell_type": "code",
   "execution_count": 129,
   "metadata": {},
   "outputs": [
    {
     "data": {
      "text/plain": [
       "MLPClassifier(activation='relu', alpha=0.0001, batch_size='auto', beta_1=0.9,\n",
       "              beta_2=0.999, early_stopping=False, epsilon=1e-08,\n",
       "              hidden_layer_sizes=(10, 10, 10), learning_rate='constant',\n",
       "              learning_rate_init=0.001, max_iter=1000, momentum=0.9,\n",
       "              n_iter_no_change=10, nesterovs_momentum=True, power_t=0.5,\n",
       "              random_state=None, shuffle=True, solver='adam', tol=0.0001,\n",
       "              validation_fraction=0.1, verbose=False, warm_start=False)"
      ]
     },
     "execution_count": 129,
     "metadata": {},
     "output_type": "execute_result"
    }
   ],
   "source": [
    "#ANN \n",
    "from sklearn.neural_network import MLPClassifier\n",
    "mlp = MLPClassifier(hidden_layer_sizes=(10, 10, 10), max_iter=1000)\n",
    "mlp.fit(X_train, y_train)"
   ]
  },
  {
   "cell_type": "code",
   "execution_count": 131,
   "metadata": {},
   "outputs": [],
   "source": [
    "predictions = mlp.predict(X_test)"
   ]
  },
  {
   "cell_type": "code",
   "execution_count": 134,
   "metadata": {},
   "outputs": [
    {
     "name": "stdout",
     "output_type": "stream",
     "text": [
      "For n=2 using ANN\n",
      "              precision    recall  f1-score   support\n",
      "\n",
      "           0       0.92      0.91      0.92      1532\n",
      "           1       0.97      0.97      0.97      3141\n",
      "           2       0.98      0.96      0.97      1304\n",
      "           3       0.00      0.00      0.00        11\n",
      "           4       0.00      0.00      0.00         0\n",
      "           5       0.89      0.89      0.89       357\n",
      "           6       0.00      0.00      0.00         1\n",
      "\n",
      "   micro avg       0.96      0.95      0.95      6346\n",
      "   macro avg       0.54      0.53      0.54      6346\n",
      "weighted avg       0.96      0.95      0.95      6346\n",
      " samples avg       0.95      0.95      0.95      6346\n",
      "\n",
      "Accuracy For n=2 using ANN 0.9443744090765837\n"
     ]
    }
   ],
   "source": [
    "#print classification_report and accuracy\n",
    "#print(confusion_matrix(y_test,predictions))\n",
    "print(\"For n=2 using ANN\")\n",
    "print(classification_report(y_test,predictions))\n",
    "score1= accuracy_score(y_test,predictions)\n",
    "print(\"Accuracy For n=2 using ANN\",score1)\n",
    "\n",
    "\n",
    "#this same procedure has been repeated for KNN and ANN classification with n=2,3,4,5(PCA)"
   ]
  },
  {
   "cell_type": "code",
   "execution_count": 135,
   "metadata": {},
   "outputs": [],
   "source": [
    "#PCA n=3\n",
    "from sklearn.decomposition import PCA\n",
    "pca = PCA(n_components=3)\n",
    "X.shape=(3553520,180)\n",
    "principalComponents = pca.fit_transform(X)\n",
    "principalComponents.shape=(44419,80,3)\n",
    "#splitting test ans train\n",
    "X_train, X_test, y_train, y_test= train_test_split(principalComponents,y1, test_size=1/7.0, random_state=0)"
   ]
  },
  {
   "cell_type": "code",
   "execution_count": 136,
   "metadata": {},
   "outputs": [
    {
     "data": {
      "text/plain": [
       "KNeighborsClassifier(algorithm='auto', leaf_size=30, metric='minkowski',\n",
       "                     metric_params=None, n_jobs=None, n_neighbors=7, p=2,\n",
       "                     weights='uniform')"
      ]
     },
     "execution_count": 136,
     "metadata": {},
     "output_type": "execute_result"
    }
   ],
   "source": [
    "#KNN for K=7\n",
    "X_train.shape=(38073,80*3)\n",
    "X_test.shape=(6346,80*3)\n",
    "scaler = StandardScaler()\n",
    "scaler.fit(X_train)\n",
    "X_train= scaler.transform(X_train)\n",
    "X_test= scaler.transform(X_test)\n",
    "classifier = KNeighborsClassifier(n_neighbors=7)\n",
    "classifier.fit(X_train, y_train)"
   ]
  },
  {
   "cell_type": "code",
   "execution_count": 139,
   "metadata": {},
   "outputs": [
    {
     "name": "stdout",
     "output_type": "stream",
     "text": [
      "For n=3 using KNN\n"
     ]
    },
    {
     "name": "stderr",
     "output_type": "stream",
     "text": [
      "C:\\ProgramData\\Anaconda3\\lib\\site-packages\\sklearn\\metrics\\classification.py:1437: UndefinedMetricWarning: Precision and F-score are ill-defined and being set to 0.0 in labels with no predicted samples.\n",
      "  'precision', 'predicted', average, warn_for)\n",
      "C:\\ProgramData\\Anaconda3\\lib\\site-packages\\sklearn\\metrics\\classification.py:1439: UndefinedMetricWarning: Recall and F-score are ill-defined and being set to 0.0 in labels with no true samples.\n",
      "  'recall', 'true', average, warn_for)\n",
      "C:\\ProgramData\\Anaconda3\\lib\\site-packages\\sklearn\\metrics\\classification.py:1437: UndefinedMetricWarning: Precision and F-score are ill-defined and being set to 0.0 in samples with no predicted labels.\n",
      "  'precision', 'predicted', average, warn_for)\n"
     ]
    },
    {
     "name": "stdout",
     "output_type": "stream",
     "text": [
      "              precision    recall  f1-score   support\n",
      "\n",
      "           0       0.95      0.94      0.94      1532\n",
      "           1       0.98      0.98      0.98      3141\n",
      "           2       0.99      0.99      0.99      1304\n",
      "           3       0.00      0.00      0.00        11\n",
      "           4       0.00      0.00      0.00         0\n",
      "           5       0.92      0.85      0.88       357\n",
      "           6       0.00      0.00      0.00         1\n",
      "\n",
      "   micro avg       0.97      0.97      0.97      6346\n",
      "   macro avg       0.55      0.54      0.54      6346\n",
      "weighted avg       0.97      0.97      0.97      6346\n",
      " samples avg       0.97      0.97      0.97      6346\n",
      "\n",
      "For n=3 using KNN 0.9658052316419792\n"
     ]
    }
   ],
   "source": [
    "y_pred = classifier.predict(X_test)\n",
    "#print(confusion_matrix(y_test, y_pred))\n",
    "print(\"For n=3 using KNN\")\n",
    "print(classification_report(y_test, y_pred))\n",
    "score2 = accuracy_score(y_test,y_pred)\n",
    "print(\"For n=3 using KNN\",score2)"
   ]
  },
  {
   "cell_type": "code",
   "execution_count": 140,
   "metadata": {},
   "outputs": [
    {
     "data": {
      "text/plain": [
       "MLPClassifier(activation='relu', alpha=0.0001, batch_size='auto', beta_1=0.9,\n",
       "              beta_2=0.999, early_stopping=False, epsilon=1e-08,\n",
       "              hidden_layer_sizes=(10, 10, 10), learning_rate='constant',\n",
       "              learning_rate_init=0.001, max_iter=1000, momentum=0.9,\n",
       "              n_iter_no_change=10, nesterovs_momentum=True, power_t=0.5,\n",
       "              random_state=None, shuffle=True, solver='adam', tol=0.0001,\n",
       "              validation_fraction=0.1, verbose=False, warm_start=False)"
      ]
     },
     "execution_count": 140,
     "metadata": {},
     "output_type": "execute_result"
    }
   ],
   "source": [
    "#ANN \n",
    "mlp = MLPClassifier(hidden_layer_sizes=(10, 10, 10), max_iter=1000)\n",
    "mlp.fit(X_train, y_train)"
   ]
  },
  {
   "cell_type": "code",
   "execution_count": 141,
   "metadata": {},
   "outputs": [
    {
     "name": "stdout",
     "output_type": "stream",
     "text": [
      "For n=3 using ANN\n"
     ]
    },
    {
     "name": "stderr",
     "output_type": "stream",
     "text": [
      "C:\\ProgramData\\Anaconda3\\lib\\site-packages\\sklearn\\metrics\\classification.py:1437: UndefinedMetricWarning: Precision and F-score are ill-defined and being set to 0.0 in labels with no predicted samples.\n",
      "  'precision', 'predicted', average, warn_for)\n",
      "C:\\ProgramData\\Anaconda3\\lib\\site-packages\\sklearn\\metrics\\classification.py:1439: UndefinedMetricWarning: Recall and F-score are ill-defined and being set to 0.0 in labels with no true samples.\n",
      "  'recall', 'true', average, warn_for)\n",
      "C:\\ProgramData\\Anaconda3\\lib\\site-packages\\sklearn\\metrics\\classification.py:1437: UndefinedMetricWarning: Precision and F-score are ill-defined and being set to 0.0 in samples with no predicted labels.\n",
      "  'precision', 'predicted', average, warn_for)\n"
     ]
    },
    {
     "name": "stdout",
     "output_type": "stream",
     "text": [
      "              precision    recall  f1-score   support\n",
      "\n",
      "           0       0.94      0.94      0.94      1532\n",
      "           1       0.98      0.97      0.97      3141\n",
      "           2       0.98      0.99      0.99      1304\n",
      "           3       0.00      0.00      0.00        11\n",
      "           4       0.00      0.00      0.00         0\n",
      "           5       0.96      0.86      0.91       357\n",
      "           6       0.00      0.00      0.00         1\n",
      "\n",
      "   micro avg       0.97      0.96      0.96      6346\n",
      "   macro avg       0.55      0.54      0.54      6346\n",
      "weighted avg       0.96      0.96      0.96      6346\n",
      " samples avg       0.96      0.96      0.96      6346\n",
      "\n",
      "For n=3 using ANN 0.9604475260006303\n"
     ]
    }
   ],
   "source": [
    "predictions = mlp.predict(X_test)\n",
    "#print(confusion_matrix(y_test,predictions))\n",
    "print(\"For n=3 using ANN\")\n",
    "print(classification_report(y_test,predictions))\n",
    "score3= accuracy_score(y_test,predictions)\n",
    "print(\"For n=3 using ANN\",score3)"
   ]
  },
  {
   "cell_type": "code",
   "execution_count": 142,
   "metadata": {},
   "outputs": [],
   "source": [
    "#PCA n=4\n",
    "from sklearn.decomposition import PCA\n",
    "pca = PCA(n_components=4)\n",
    "X.shape=(3553520,180)\n",
    "principalComponents = pca.fit_transform(X)\n",
    "principalComponents.shape=(44419,80,4)\n",
    "#splitting test ans train\n",
    "X_train, X_test, y_train, y_test= train_test_split(principalComponents,y1, test_size=1/7.0, random_state=0)"
   ]
  },
  {
   "cell_type": "code",
   "execution_count": 143,
   "metadata": {},
   "outputs": [
    {
     "data": {
      "text/plain": [
       "KNeighborsClassifier(algorithm='auto', leaf_size=30, metric='minkowski',\n",
       "                     metric_params=None, n_jobs=None, n_neighbors=7, p=2,\n",
       "                     weights='uniform')"
      ]
     },
     "execution_count": 143,
     "metadata": {},
     "output_type": "execute_result"
    }
   ],
   "source": [
    "#KNN for K=7\n",
    "X_train.shape=(38073,80*4)\n",
    "X_test.shape=(6346,80*4)\n",
    "scaler = StandardScaler()\n",
    "scaler.fit(X_train)\n",
    "X_train= scaler.transform(X_train)\n",
    "X_test= scaler.transform(X_test)\n",
    "classifier = KNeighborsClassifier(n_neighbors=7)\n",
    "classifier.fit(X_train, y_train)"
   ]
  },
  {
   "cell_type": "code",
   "execution_count": 144,
   "metadata": {},
   "outputs": [
    {
     "name": "stdout",
     "output_type": "stream",
     "text": [
      "For n=4 using KNN\n"
     ]
    },
    {
     "name": "stderr",
     "output_type": "stream",
     "text": [
      "C:\\ProgramData\\Anaconda3\\lib\\site-packages\\sklearn\\metrics\\classification.py:1437: UndefinedMetricWarning: Precision and F-score are ill-defined and being set to 0.0 in labels with no predicted samples.\n",
      "  'precision', 'predicted', average, warn_for)\n",
      "C:\\ProgramData\\Anaconda3\\lib\\site-packages\\sklearn\\metrics\\classification.py:1439: UndefinedMetricWarning: Recall and F-score are ill-defined and being set to 0.0 in labels with no true samples.\n",
      "  'recall', 'true', average, warn_for)\n",
      "C:\\ProgramData\\Anaconda3\\lib\\site-packages\\sklearn\\metrics\\classification.py:1437: UndefinedMetricWarning: Precision and F-score are ill-defined and being set to 0.0 in samples with no predicted labels.\n",
      "  'precision', 'predicted', average, warn_for)\n"
     ]
    },
    {
     "name": "stdout",
     "output_type": "stream",
     "text": [
      "              precision    recall  f1-score   support\n",
      "\n",
      "           0       0.95      0.95      0.95      1532\n",
      "           1       0.98      0.98      0.98      3141\n",
      "           2       0.99      0.99      0.99      1304\n",
      "           3       0.00      0.00      0.00        11\n",
      "           4       0.00      0.00      0.00         0\n",
      "           5       0.94      0.85      0.89       357\n",
      "           6       0.00      0.00      0.00         1\n",
      "\n",
      "   micro avg       0.97      0.97      0.97      6346\n",
      "   macro avg       0.55      0.54      0.54      6346\n",
      "weighted avg       0.97      0.97      0.97      6346\n",
      " samples avg       0.97      0.97      0.97      6346\n",
      "\n",
      "Accuracy For n=4 using KNN 0.9675386069965333\n"
     ]
    }
   ],
   "source": [
    "y_pred = classifier.predict(X_test)\n",
    "print(\"For n=4 using KNN\")\n",
    "#print(confusion_matrix(y_test, y_pred))\n",
    "print(classification_report(y_test, y_pred))\n",
    "score5= accuracy_score(y_test,y_pred)\n",
    "print(\"Accuracy For n=4 using KNN\",score5)"
   ]
  },
  {
   "cell_type": "code",
   "execution_count": 145,
   "metadata": {},
   "outputs": [
    {
     "data": {
      "text/plain": [
       "MLPClassifier(activation='relu', alpha=0.0001, batch_size='auto', beta_1=0.9,\n",
       "              beta_2=0.999, early_stopping=False, epsilon=1e-08,\n",
       "              hidden_layer_sizes=(10, 10, 10), learning_rate='constant',\n",
       "              learning_rate_init=0.001, max_iter=1000, momentum=0.9,\n",
       "              n_iter_no_change=10, nesterovs_momentum=True, power_t=0.5,\n",
       "              random_state=None, shuffle=True, solver='adam', tol=0.0001,\n",
       "              validation_fraction=0.1, verbose=False, warm_start=False)"
      ]
     },
     "execution_count": 145,
     "metadata": {},
     "output_type": "execute_result"
    }
   ],
   "source": [
    "#ANN \n",
    "mlp = MLPClassifier(hidden_layer_sizes=(10, 10, 10), max_iter=1000)\n",
    "mlp.fit(X_train, y_train)"
   ]
  },
  {
   "cell_type": "code",
   "execution_count": 146,
   "metadata": {},
   "outputs": [
    {
     "name": "stdout",
     "output_type": "stream",
     "text": [
      "For n=4 using ANN\n"
     ]
    },
    {
     "name": "stderr",
     "output_type": "stream",
     "text": [
      "C:\\ProgramData\\Anaconda3\\lib\\site-packages\\sklearn\\metrics\\classification.py:1437: UndefinedMetricWarning: Precision and F-score are ill-defined and being set to 0.0 in labels with no predicted samples.\n",
      "  'precision', 'predicted', average, warn_for)\n",
      "C:\\ProgramData\\Anaconda3\\lib\\site-packages\\sklearn\\metrics\\classification.py:1439: UndefinedMetricWarning: Recall and F-score are ill-defined and being set to 0.0 in labels with no true samples.\n",
      "  'recall', 'true', average, warn_for)\n",
      "C:\\ProgramData\\Anaconda3\\lib\\site-packages\\sklearn\\metrics\\classification.py:1437: UndefinedMetricWarning: Precision and F-score are ill-defined and being set to 0.0 in samples with no predicted labels.\n",
      "  'precision', 'predicted', average, warn_for)\n"
     ]
    },
    {
     "name": "stdout",
     "output_type": "stream",
     "text": [
      "              precision    recall  f1-score   support\n",
      "\n",
      "           0       0.95      0.94      0.94      1532\n",
      "           1       0.98      0.98      0.98      3141\n",
      "           2       0.98      0.99      0.99      1304\n",
      "           3       0.00      0.00      0.00        11\n",
      "           4       0.00      0.00      0.00         0\n",
      "           5       0.94      0.89      0.91       357\n",
      "           6       0.00      0.00      0.00         1\n",
      "\n",
      "   micro avg       0.97      0.96      0.97      6346\n",
      "   macro avg       0.55      0.54      0.55      6346\n",
      "weighted avg       0.97      0.96      0.97      6346\n",
      " samples avg       0.96      0.96      0.96      6346\n",
      "\n",
      "Accuracy For n=4 using ANN 0.9632839583989915\n"
     ]
    }
   ],
   "source": [
    "predictions = mlp.predict(X_test)\n",
    "print(\"For n=4 using ANN\")\n",
    "#print(confusion_matrix(y_test,predictions))\n",
    "print(classification_report(y_test,predictions))\n",
    "score6= accuracy_score(y_test,predictions)\n",
    "print(\"Accuracy For n=4 using ANN\",score6)"
   ]
  },
  {
   "cell_type": "code",
   "execution_count": 147,
   "metadata": {},
   "outputs": [],
   "source": [
    "#PCA n=5\n",
    "from sklearn.decomposition import PCA\n",
    "pca = PCA(n_components=5)\n",
    "X.shape=(3553520,180)\n",
    "principalComponents = pca.fit_transform(X)\n",
    "principalComponents.shape=(44419,80,5)\n",
    "#splitting test ans train\n",
    "X_train, X_test, y_train, y_test= train_test_split(principalComponents,y1, test_size=1/7.0, random_state=0)"
   ]
  },
  {
   "cell_type": "code",
   "execution_count": 148,
   "metadata": {},
   "outputs": [
    {
     "data": {
      "text/plain": [
       "KNeighborsClassifier(algorithm='auto', leaf_size=30, metric='minkowski',\n",
       "                     metric_params=None, n_jobs=None, n_neighbors=7, p=2,\n",
       "                     weights='uniform')"
      ]
     },
     "execution_count": 148,
     "metadata": {},
     "output_type": "execute_result"
    }
   ],
   "source": [
    "#KNN for K=7\n",
    "X_train.shape=(38073,80*5)\n",
    "X_test.shape=(6346,80*5)\n",
    "scaler = StandardScaler()\n",
    "scaler.fit(X_train)\n",
    "X_train= scaler.transform(X_train)\n",
    "X_test= scaler.transform(X_test)\n",
    "classifier = KNeighborsClassifier(n_neighbors=7)\n",
    "classifier.fit(X_train, y_train)"
   ]
  },
  {
   "cell_type": "code",
   "execution_count": 149,
   "metadata": {},
   "outputs": [
    {
     "name": "stdout",
     "output_type": "stream",
     "text": [
      "For n=5 using KNN\n"
     ]
    },
    {
     "name": "stderr",
     "output_type": "stream",
     "text": [
      "C:\\ProgramData\\Anaconda3\\lib\\site-packages\\sklearn\\metrics\\classification.py:1437: UndefinedMetricWarning: Precision and F-score are ill-defined and being set to 0.0 in labels with no predicted samples.\n",
      "  'precision', 'predicted', average, warn_for)\n",
      "C:\\ProgramData\\Anaconda3\\lib\\site-packages\\sklearn\\metrics\\classification.py:1439: UndefinedMetricWarning: Recall and F-score are ill-defined and being set to 0.0 in labels with no true samples.\n",
      "  'recall', 'true', average, warn_for)\n",
      "C:\\ProgramData\\Anaconda3\\lib\\site-packages\\sklearn\\metrics\\classification.py:1437: UndefinedMetricWarning: Precision and F-score are ill-defined and being set to 0.0 in samples with no predicted labels.\n",
      "  'precision', 'predicted', average, warn_for)\n"
     ]
    },
    {
     "name": "stdout",
     "output_type": "stream",
     "text": [
      "              precision    recall  f1-score   support\n",
      "\n",
      "           0       0.94      0.95      0.95      1532\n",
      "           1       0.98      0.98      0.98      3141\n",
      "           2       0.99      0.99      0.99      1304\n",
      "           3       0.00      0.00      0.00        11\n",
      "           4       0.00      0.00      0.00         0\n",
      "           5       0.93      0.80      0.86       357\n",
      "           6       0.00      0.00      0.00         1\n",
      "\n",
      "   micro avg       0.97      0.96      0.97      6346\n",
      "   macro avg       0.55      0.53      0.54      6346\n",
      "weighted avg       0.97      0.96      0.97      6346\n",
      " samples avg       0.96      0.96      0.96      6346\n",
      "\n",
      "For n=5 using KNN 0.9647021745981721\n"
     ]
    }
   ],
   "source": [
    "y_pred = classifier.predict(X_test)\n",
    "print(\"For n=5 using KNN\")\n",
    "#print(confusion_matrix(y_test, y_pred))\n",
    "print(classification_report(y_test, y_pred))\n",
    "score7= accuracy_score(y_test,y_pred)\n",
    "print(\"For n=5 using KNN\",score7)"
   ]
  },
  {
   "cell_type": "code",
   "execution_count": 150,
   "metadata": {},
   "outputs": [
    {
     "data": {
      "text/plain": [
       "MLPClassifier(activation='relu', alpha=0.0001, batch_size='auto', beta_1=0.9,\n",
       "              beta_2=0.999, early_stopping=False, epsilon=1e-08,\n",
       "              hidden_layer_sizes=(10, 10, 10), learning_rate='constant',\n",
       "              learning_rate_init=0.001, max_iter=1000, momentum=0.9,\n",
       "              n_iter_no_change=10, nesterovs_momentum=True, power_t=0.5,\n",
       "              random_state=None, shuffle=True, solver='adam', tol=0.0001,\n",
       "              validation_fraction=0.1, verbose=False, warm_start=False)"
      ]
     },
     "execution_count": 150,
     "metadata": {},
     "output_type": "execute_result"
    }
   ],
   "source": [
    "#ANN \n",
    "mlp = MLPClassifier(hidden_layer_sizes=(10, 10, 10), max_iter=1000)\n",
    "mlp.fit(X_train, y_train)"
   ]
  },
  {
   "cell_type": "code",
   "execution_count": 151,
   "metadata": {},
   "outputs": [
    {
     "name": "stdout",
     "output_type": "stream",
     "text": [
      "For n=5 using ANN\n"
     ]
    },
    {
     "name": "stderr",
     "output_type": "stream",
     "text": [
      "C:\\ProgramData\\Anaconda3\\lib\\site-packages\\sklearn\\metrics\\classification.py:1437: UndefinedMetricWarning: Precision and F-score are ill-defined and being set to 0.0 in labels with no predicted samples.\n",
      "  'precision', 'predicted', average, warn_for)\n",
      "C:\\ProgramData\\Anaconda3\\lib\\site-packages\\sklearn\\metrics\\classification.py:1439: UndefinedMetricWarning: Recall and F-score are ill-defined and being set to 0.0 in labels with no true samples.\n",
      "  'recall', 'true', average, warn_for)\n",
      "C:\\ProgramData\\Anaconda3\\lib\\site-packages\\sklearn\\metrics\\classification.py:1437: UndefinedMetricWarning: Precision and F-score are ill-defined and being set to 0.0 in samples with no predicted labels.\n",
      "  'precision', 'predicted', average, warn_for)\n"
     ]
    },
    {
     "name": "stdout",
     "output_type": "stream",
     "text": [
      "              precision    recall  f1-score   support\n",
      "\n",
      "           0       0.94      0.94      0.94      1532\n",
      "           1       0.98      0.97      0.98      3141\n",
      "           2       0.99      0.99      0.99      1304\n",
      "           3       0.00      0.00      0.00        11\n",
      "           4       0.00      0.00      0.00         0\n",
      "           5       0.85      0.88      0.86       357\n",
      "           6       0.00      0.00      0.00         1\n",
      "\n",
      "   micro avg       0.96      0.96      0.96      6346\n",
      "   macro avg       0.54      0.54      0.54      6346\n",
      "weighted avg       0.96      0.96      0.96      6346\n",
      " samples avg       0.96      0.96      0.96      6346\n",
      "\n",
      "Accuracy For n=5 using ANN 0.9583989914907028\n"
     ]
    }
   ],
   "source": [
    "predictions = mlp.predict(X_test)\n",
    "#print(confusion_matrix(y_test,predictions))\n",
    "print(\"For n=5 using ANN\")\n",
    "print(classification_report(y_test,predictions))\n",
    "score8= accuracy_score(y_test,predictions)\n",
    "print(\"Accuracy For n=5 using ANN\",score8)"
   ]
  },
  {
   "cell_type": "code",
   "execution_count": 154,
   "metadata": {},
   "outputs": [
    {
     "name": "stdout",
     "output_type": "stream",
     "text": [
      "Summary and comparison between various models implemented :\n",
      "\n",
      "Accuracy for CNN 98.76 %\n",
      "\n",
      "PCA for n=2:\n",
      "Accuracy for KNN(k=7) 95.54049795146548 %\n",
      "Accuracy for ANN 94.43744090765837 %\n",
      "\n",
      "PCA for n=3:\n",
      "Accuracy for KNN(k=7) 96.58052316419791 %\n",
      "Accuracy for ANN 96.04475260006303 %\n",
      "\n",
      "PCA for n=4:\n",
      "Accuracy for KNN(k=7) 96.75386069965333 %\n",
      "Accuracy for ANN 96.32839583989914 %\n",
      "\n",
      "PCA for n=5:\n",
      "Accuracy for KNN(k=7) 96.4702174598172 %\n",
      "Accuracy for ANN 95.83989914907029 %\n",
      "\n",
      "According to the results above, vanilla CNN appears to be the best.Results obtained will be the same given a more complex data set because in terms of performance, CNNs outperform NNs and KNNS on conventional image recognition tasks.\n"
     ]
    }
   ],
   "source": [
    "#3. Compare the three models with respect to the accuracy for  both train and test. Do you think the result obtained will be the same given a more complex data set? \n",
    "print(\"Summary and comparison between various models implemented :\\n\")\n",
    "print(\"Accuracy for CNN\",98.76,\"%\\n\")\n",
    "print(\"PCA for n=2:\")\n",
    "print(\"Accuracy for KNN(k=7)\",score*100,\"%\")\n",
    "print(\"Accuracy for ANN\",score1*100,\"%\\n\")\n",
    "print(\"PCA for n=3:\")\n",
    "print(\"Accuracy for KNN(k=7)\",score2*100,\"%\")\n",
    "print(\"Accuracy for ANN\",score3*100,\"%\\n\")\n",
    "print(\"PCA for n=4:\")\n",
    "print(\"Accuracy for KNN(k=7)\",score5*100,\"%\")\n",
    "print(\"Accuracy for ANN\",score6*100,\"%\\n\")\n",
    "print(\"PCA for n=5:\")\n",
    "print(\"Accuracy for KNN(k=7)\",score7*100,\"%\")\n",
    "print(\"Accuracy for ANN\",score8*100,\"%\\n\")\n",
    "print(\"According to the results above, vanilla CNN appears to be the best.Results obtained will be the same given a more complex data set because in terms of performance, CNNs outperform NNs and KNNS on conventional image recognition tasks.\")"
   ]
  },
  {
   "cell_type": "code",
   "execution_count": 155,
   "metadata": {},
   "outputs": [
    {
     "name": "stdout",
     "output_type": "stream",
     "text": [
      "References: https://www.analyticsvidhya.com/blog/2019/04/build-first-multi-label-image-classification-model-python/\n"
     ]
    }
   ],
   "source": [
    "print(\"References: https://www.analyticsvidhya.com/blog/2019/04/build-first-multi-label-image-classification-model-python/\")"
   ]
  },
  {
   "cell_type": "code",
   "execution_count": 156,
   "metadata": {},
   "outputs": [
    {
     "data": {
      "text/plain": [
       "'Amy has come up with a series of exercises to help with Sheldon’s need for closure. \\nThe dataset Big Bang Theoryhas an audio clip which contains the best scenes from one of the episodes.\\nUse this audio clip to extract the following features and display their dimension:\\n1.MFCC\\n2.Zero Crossing rate\\n3.Spectral Centroids\\n4.Pitch\\n5.Root Mean Square for the signal\\nFind out the use of each of the above feature. Using these features, given a problem of content classification\\n(eg. laughter track vs dialog), which algorithm would you use to classify and why?'"
      ]
     },
     "execution_count": 156,
     "metadata": {},
     "output_type": "execute_result"
    }
   ],
   "source": [
    "#Question 2\n",
    "'''Amy has come up with a series of exercises to help with Sheldon’s need for closure. \n",
    "The dataset Big Bang Theoryhas an audio clip which contains the best scenes from one of the episodes.\n",
    "Use this audio clip to extract the following features and display their dimension:\n",
    "1.MFCC\n",
    "2.Zero Crossing rate\n",
    "3.Spectral Centroids\n",
    "4.Pitch\n",
    "5.Root Mean Square for the signal\n",
    "Find out the use of each of the above feature. Using these features, given a problem of content classification\n",
    "(eg. laughter track vs dialog), which algorithm would you use to classify and why?'''"
   ]
  },
  {
   "cell_type": "code",
   "execution_count": 157,
   "metadata": {},
   "outputs": [
    {
     "data": {
      "text/plain": [
       "<matplotlib.collections.PolyCollection at 0x21acc648fd0>"
      ]
     },
     "execution_count": 157,
     "metadata": {},
     "output_type": "execute_result"
    },
    {
     "data": {
      "image/png": "[encoded data removed]",
      "text/plain": [
       "<Figure size 864x360 with 1 Axes>"
      ]
     },
     "metadata": {
      "needs_background": "light"
     },
     "output_type": "display_data"
    }
   ],
   "source": [
    "x , sr = librosa.load(audio_path)\n",
    "plt.figure(figsize=(12, 5))\n",
    "librosa.display.waveplot(x, sr=sr)"
   ]
  },
  {
   "cell_type": "code",
   "execution_count": 158,
   "metadata": {},
   "outputs": [
    {
     "data": {
      "image/png": "[encoded data removed]",
      "text/plain": [
       "<Figure size 864x360 with 1 Axes>"
      ]
     },
     "metadata": {
      "needs_background": "light"
     },
     "output_type": "display_data"
    }
   ],
   "source": [
    "#plotting a more zoomed in version of the audio signal\n",
    "n0 = 8000\n",
    "n1 = 8200\n",
    "plt.figure(figsize=(12, 5))\n",
    "plt.plot(x[n0:n1])\n",
    "plt.grid()"
   ]
  },
  {
   "cell_type": "code",
   "execution_count": 159,
   "metadata": {},
   "outputs": [
    {
     "name": "stdout",
     "output_type": "stream",
     "text": [
      "MFCC — Mel Frequency Cepstral Co-efficients. The Mel frequency cepstral coefficients (MFCCs) of a signal are a small set of features (usually about 10-20) which concisely describe the overall shape of a spectral envelope. For example in Music Information Retrieval, it is often used to describe timbre.\n",
      "MFCC: [[-539.871     -539.871     -379.66885   ... -151.52533   -132.81361\n",
      "  -138.85701  ]\n",
      " [   0.           0.         123.122604  ...  128.4087     123.3772\n",
      "   115.44869  ]\n",
      " [   0.           0.          26.443422  ...  -80.28901    -79.40747\n",
      "   -66.79495  ]\n",
      " ...\n",
      " [   0.           0.           3.5730817 ...   -2.3635604   -0.7761585\n",
      "     8.097237 ]\n",
      " [   0.           0.           2.6215496 ...    5.851412    13.78367\n",
      "    17.292326 ]\n",
      " [   0.           0.           2.0217834 ...    3.443552     4.885784\n",
      "     5.1737185]]\n",
      "Dimensions: (20, 11543)\n"
     ]
    }
   ],
   "source": [
    "#1. MFCC\n",
    "print(\"MFCC — Mel Frequency Cepstral Co-efficients. The Mel frequency cepstral coefficients (MFCCs) of a signal are a small set of features (usually about 10-20) which concisely describe the overall shape of a spectral envelope. For example in Music Information Retrieval, it is often used to describe timbre.\") \n",
    "mfcc = librosa.feature.mfcc(x, sr=sr)\n",
    "print(\"MFCC:\", mfcc)\n",
    "print(\"Dimensions:\",mfcc.shape)"
   ]
  },
  {
   "cell_type": "code",
   "execution_count": 160,
   "metadata": {},
   "outputs": [
    {
     "name": "stdout",
     "output_type": "stream",
     "text": [
      "A simple way for measuring smoothness of a signal is to calculate the number of zero-crossing within a segment of that signal. a zero crossing is said to occur if successive samples have different algebraic signs. The rate at which zero crossings occur is a simple measure of the frequency content of a signal. Zero-crossing rate is a measure of number of times in a given time interval/frame that the amplitude of the speech signals passes through a value of zero\n",
      "zero crossings: [ True False False ...  True False False]\n",
      "dimensions: (5909504,)\n",
      "overall: 850851\n",
      "zero crossing rate: [[0.         0.03808594 0.05126953 ... 0.12207031 0.09326172 0.06396484]]\n",
      "dimensions: (1, 11543)\n",
      "overall: [0.         0.03808594 0.05126953 ... 0.12207031 0.09326172 0.06396484]\n"
     ]
    }
   ],
   "source": [
    "#2. Zero Crossing Rate\n",
    "print(\"A simple way for measuring smoothness of a signal is to calculate the number of zero-crossing within a segment of that signal. a zero crossing is said to occur if successive samples have different algebraic signs. The rate at which zero crossings occur is a simple measure of the frequency content of a signal. Zero-crossing rate is a measure of number of times in a given time interval/frame that the amplitude of the speech signals passes through a value of zero\")\n",
    "\n",
    "zero_crossings = librosa.zero_crossings(x)\n",
    "print(\"zero crossings:\", zero_crossings)\n",
    "print(\"dimensions:\",zero_crossings.shape)\n",
    "print(\"overall:\",sum(zero_crossings))\n",
    "\n",
    "zero_crossing_rate= librosa.feature.zero_crossing_rate(x)\n",
    "print(\"zero crossing rate:\", zero_crossing_rate)\n",
    "print(\"dimensions:\",zero_crossing_rate.shape)\n",
    "print(\"overall:\",sum(zero_crossing_rate))"
   ]
  },
  {
   "cell_type": "code",
   "execution_count": 161,
   "metadata": {},
   "outputs": [
    {
     "name": "stdout",
     "output_type": "stream",
     "text": [
      "The spectral centroid indicates at which frequency the energy of a spectrum is centered upon. It is like a weighted mean\n",
      "Spectral centroid dimensions: (11543,)\n",
      "Spectral centroid: [   0.         3902.82448717 1188.75814592 ... 1766.41286656 1824.89471963\n",
      " 1861.63947285]\n"
     ]
    }
   ],
   "source": [
    "#3. Spectral centroids\n",
    "print(\"The spectral centroid indicates at which frequency the energy of a spectrum is centered upon. It is like a weighted mean\")\n",
    "spectral_centroids = librosa.feature.spectral_centroid(x, sr=sr)[0]\n",
    "print(\"Spectral centroid dimensions:\",spectral_centroids.shape)\n",
    "print(\"Spectral centroid:\",spectral_centroids)\n"
   ]
  },
  {
   "cell_type": "code",
   "execution_count": 162,
   "metadata": {},
   "outputs": [
    {
     "name": "stdout",
     "output_type": "stream",
     "text": [
      "Pitch is one of the characteristics of a speech signal and is measured as the frequency of the signal.Pitch is the fundamental period of the speech signal.Pitch is a perceptual property that allows the ordering of sounds on a frequency-related scale. Pitch is referred as fundamental frequency\n",
      "Pitch: [[0. 0. 0. ... 0. 0. 0.]\n",
      " [0. 0. 0. ... 0. 0. 0.]\n",
      " [0. 0. 0. ... 0. 0. 0.]\n",
      " ...\n",
      " [0. 0. 0. ... 0. 0. 0.]\n",
      " [0. 0. 0. ... 0. 0. 0.]\n",
      " [0. 0. 0. ... 0. 0. 0.]]\n",
      "dimensions:  (1025, 11543)\n"
     ]
    }
   ],
   "source": [
    "#4. Pitch\n",
    "print(\"Pitch is one of the characteristics of a speech signal and is measured as the frequency of the signal.Pitch is the fundamental period of the speech signal.Pitch is a perceptual property that allows the ordering of sounds on a frequency-related scale. Pitch is referred as fundamental frequency\")\n",
    "pitch , mg= librosa.piptrack(y=x,sr=sr)\n",
    "print(\"Pitch:\", pitch)\n",
    "print(\"dimensions: \",pitch.shape)"
   ]
  },
  {
   "cell_type": "code",
   "execution_count": 163,
   "metadata": {},
   "outputs": [
    {
     "name": "stdout",
     "output_type": "stream",
     "text": [
      "RMS is the root-mean-square value of a signal. it represents the average 'power' of a signal.\n",
      "RMS:  [[0.0000000e+00 1.6496797e-05 4.0288899e-02 ... 6.2249143e-02\n",
      "  6.9209576e-02 7.4210189e-02]]\n",
      "Dimension of rms: (1, 11543)\n"
     ]
    }
   ],
   "source": [
    "#5.RMS\n",
    "print(\"RMS is the root-mean-square value of a signal. it represents the average 'power' of a signal.\")\n",
    "rms=librosa.feature.rms(x)\n",
    "print(\"RMS: \",rms)\n",
    "print(\"Dimension of rms:\", rms.shape)"
   ]
  },
  {
   "cell_type": "code",
   "execution_count": 164,
   "metadata": {},
   "outputs": [
    {
     "name": "stdout",
     "output_type": "stream",
     "text": [
      "MFCC is the best option for audio content classification as the help distinguishing and hence classify the audio signal better. In real world applictions as well they are used for speech identification and audio classification. MFCC takes into account human perception for sensitivity at appropriate frequencies by converting the conventional frequency to Mel Scale, and are thus suitable for speech recognition. Hence by using this method  for feature extraction and further running any model on it will help with content based audio classification .\n"
     ]
    }
   ],
   "source": [
    "# which is the best model among these for content classification\n",
    "print(\"MFCC is the best option for audio content classification as the help distinguishing and hence classify the audio signal better. In real world applictions as well they are used for speech identification and audio classification. MFCC takes into account human perception for sensitivity at appropriate frequencies by converting the conventional frequency to Mel Scale, and are thus suitable for speech recognition. Hence by using this method  for feature extraction and further running any model on it will help with content based audio classification .\")"
   ]
  },
  {
   "cell_type": "code",
   "execution_count": null,
   "metadata": {},
   "outputs": [],
   "source": []
  }
 ],
 "metadata": {
  "kernelspec": {
   "display_name": "Python 3",
   "language": "python",
   "name": "python3"
  },
  "language_info": {
   "codemirror_mode": {
    "name": "ipython",
    "version": 3
   },
   "file_extension": ".py",
   "mimetype": "text/x-python",
   "name": "python",
   "nbconvert_exporter": "python",
   "pygments_lexer": "ipython3",
   "version": "3.7.0"
  }
 },
 "nbformat": 4,
 "nbformat_minor": 2
}
